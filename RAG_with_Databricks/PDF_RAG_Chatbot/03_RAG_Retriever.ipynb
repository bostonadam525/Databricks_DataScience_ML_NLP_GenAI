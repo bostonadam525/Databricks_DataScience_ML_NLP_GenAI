{
 "cells": [
  {
   "cell_type": "markdown",
   "metadata": {
    "application/vnd.databricks.v1+cell": {
     "cellMetadata": {},
     "inputWidgets": {},
     "nuid": "dc2ce9e9-15c5-4b89-a143-5c5477686dfd",
     "showTitle": false,
     "tableResultSettingsMap": {},
     "title": ""
    }
   },
   "source": [
    "# 3 - RAG Retriever\n",
    "* Notebook by Adam Lang\n",
    "* Notebook was adopted from the Databricks webinar in June 2024 that streamed on the Databricks YouTube channel.\n",
    "* This is the 3rd notebook and the next step after creating the delta tables, vector endpoint, and vector index table. \n",
    "* Date: 4/30/2025"
   ]
  },
  {
   "cell_type": "markdown",
   "metadata": {
    "application/vnd.databricks.v1+cell": {
     "cellMetadata": {},
     "inputWidgets": {},
     "nuid": "e06348f3-8d3b-4f7c-bcfc-1a8a6ef2f6b0",
     "showTitle": false,
     "tableResultSettingsMap": {},
     "title": ""
    }
   },
   "source": [
    "## 1. Install Dependencies"
   ]
  },
  {
   "cell_type": "code",
   "execution_count": 0,
   "metadata": {
    "application/vnd.databricks.v1+cell": {
     "cellMetadata": {
      "byteLimit": 2048000,
      "rowLimit": 10000
     },
     "inputWidgets": {},
     "nuid": "d28fb6e3-d454-4870-b790-f693e4bb3d70",
     "showTitle": false,
     "tableResultSettingsMap": {},
     "title": ""
    }
   },
   "outputs": [
    {
     "output_type": "stream",
     "name": "stdout",
     "output_type": "stream",
     "text": [
      "Requirement already satisfied: mlflow==2.10.1 in /local_disk0/.ephemeral_nfs/envs/pythonEnv-5bbcf85c-ea80-425e-8004-873100942742/lib/python3.11/site-packages (2.10.1)\nRequirement already satisfied: langchain==0.1.5 in /local_disk0/.ephemeral_nfs/envs/pythonEnv-5bbcf85c-ea80-425e-8004-873100942742/lib/python3.11/site-packages (0.1.5)\nRequirement already satisfied: databricks-vectorsearch==0.22 in /local_disk0/.ephemeral_nfs/envs/pythonEnv-5bbcf85c-ea80-425e-8004-873100942742/lib/python3.11/site-packages (0.22)\nRequirement already satisfied: databricks-sdk==0.18.0 in /local_disk0/.ephemeral_nfs/envs/pythonEnv-5bbcf85c-ea80-425e-8004-873100942742/lib/python3.11/site-packages (0.18.0)\nRequirement already satisfied: click<9,>=7.0 in /local_disk0/.ephemeral_nfs/envs/pythonEnv-5bbcf85c-ea80-425e-8004-873100942742/lib/python3.11/site-packages (from mlflow==2.10.1) (8.1.8)\nRequirement already satisfied: cloudpickle<4 in /databricks/python3/lib/python3.11/site-packages (from mlflow==2.10.1) (3.0.0)\nRequirement already satisfied: databricks-cli<1,>=0.8.7 in /local_disk0/.ephemeral_nfs/envs/pythonEnv-5bbcf85c-ea80-425e-8004-873100942742/lib/python3.11/site-packages (from mlflow==2.10.1) (0.18.0)\nRequirement already satisfied: entrypoints<1 in /databricks/python3/lib/python3.11/site-packages (from mlflow==2.10.1) (0.4)\nRequirement already satisfied: gitpython<4,>=2.1.0 in /databricks/python3/lib/python3.11/site-packages (from mlflow==2.10.1) (3.1.43)\nRequirement already satisfied: pyyaml<7,>=5.1 in /databricks/python3/lib/python3.11/site-packages (from mlflow==2.10.1) (6.0)\nRequirement already satisfied: protobuf<5,>=3.12.0 in /local_disk0/.ephemeral_nfs/envs/pythonEnv-5bbcf85c-ea80-425e-8004-873100942742/lib/python3.11/site-packages (from mlflow==2.10.1) (4.25.7)\nRequirement already satisfied: pytz<2024 in /databricks/python3/lib/python3.11/site-packages (from mlflow==2.10.1) (2022.7)\nRequirement already satisfied: requests<3,>=2.17.3 in /databricks/python3/lib/python3.11/site-packages (from mlflow==2.10.1) (2.31.0)\nRequirement already satisfied: packaging<24 in /databricks/python3/lib/python3.11/site-packages (from mlflow==2.10.1) (23.2)\nRequirement already satisfied: importlib-metadata!=4.7.0,<8,>=3.7.0 in /databricks/python3/lib/python3.11/site-packages (from mlflow==2.10.1) (6.0.0)\nRequirement already satisfied: sqlparse<1,>=0.4.0 in /databricks/python3/lib/python3.11/site-packages (from mlflow==2.10.1) (0.5.1)\nRequirement already satisfied: alembic!=1.10.0,<2 in /local_disk0/.ephemeral_nfs/envs/pythonEnv-5bbcf85c-ea80-425e-8004-873100942742/lib/python3.11/site-packages (from mlflow==2.10.1) (1.15.2)\nRequirement already satisfied: docker<8,>=4.0.0 in /local_disk0/.ephemeral_nfs/envs/pythonEnv-5bbcf85c-ea80-425e-8004-873100942742/lib/python3.11/site-packages (from mlflow==2.10.1) (7.1.0)\nRequirement already satisfied: Flask<4 in /local_disk0/.ephemeral_nfs/envs/pythonEnv-5bbcf85c-ea80-425e-8004-873100942742/lib/python3.11/site-packages (from mlflow==2.10.1) (3.1.0)\nRequirement already satisfied: numpy<2 in /databricks/python3/lib/python3.11/site-packages (from mlflow==2.10.1) (1.23.5)\nRequirement already satisfied: scipy<2 in /databricks/python3/lib/python3.11/site-packages (from mlflow==2.10.1) (1.11.1)\nRequirement already satisfied: pandas<3 in /databricks/python3/lib/python3.11/site-packages (from mlflow==2.10.1) (1.5.3)\nRequirement already satisfied: querystring-parser<2 in /local_disk0/.ephemeral_nfs/envs/pythonEnv-5bbcf85c-ea80-425e-8004-873100942742/lib/python3.11/site-packages (from mlflow==2.10.1) (1.2.4)\nRequirement already satisfied: sqlalchemy<3,>=1.4.0 in /local_disk0/.ephemeral_nfs/envs/pythonEnv-5bbcf85c-ea80-425e-8004-873100942742/lib/python3.11/site-packages (from mlflow==2.10.1) (2.0.40)\nRequirement already satisfied: scikit-learn<2 in /databricks/python3/lib/python3.11/site-packages (from mlflow==2.10.1) (1.3.0)\nRequirement already satisfied: pyarrow<16,>=4.0.0 in /databricks/python3/lib/python3.11/site-packages (from mlflow==2.10.1) (14.0.1)\nRequirement already satisfied: markdown<4,>=3.3 in /local_disk0/.ephemeral_nfs/envs/pythonEnv-5bbcf85c-ea80-425e-8004-873100942742/lib/python3.11/site-packages (from mlflow==2.10.1) (3.8)\nRequirement already satisfied: matplotlib<4 in /databricks/python3/lib/python3.11/site-packages (from mlflow==2.10.1) (3.7.2)\nRequirement already satisfied: gunicorn<22 in /local_disk0/.ephemeral_nfs/envs/pythonEnv-5bbcf85c-ea80-425e-8004-873100942742/lib/python3.11/site-packages (from mlflow==2.10.1) (21.2.0)\nRequirement already satisfied: Jinja2<4,>=2.11 in /local_disk0/.ephemeral_nfs/envs/pythonEnv-5bbcf85c-ea80-425e-8004-873100942742/lib/python3.11/site-packages (from mlflow==2.10.1) (3.1.6)\nRequirement already satisfied: aiohttp<4.0.0,>=3.8.3 in /local_disk0/.ephemeral_nfs/envs/pythonEnv-5bbcf85c-ea80-425e-8004-873100942742/lib/python3.11/site-packages (from langchain==0.1.5) (3.11.18)\nRequirement already satisfied: dataclasses-json<0.7,>=0.5.7 in /local_disk0/.ephemeral_nfs/envs/pythonEnv-5bbcf85c-ea80-425e-8004-873100942742/lib/python3.11/site-packages (from langchain==0.1.5) (0.6.7)\nRequirement already satisfied: jsonpatch<2.0,>=1.33 in /local_disk0/.ephemeral_nfs/envs/pythonEnv-5bbcf85c-ea80-425e-8004-873100942742/lib/python3.11/site-packages (from langchain==0.1.5) (1.33)\nRequirement already satisfied: langchain-community<0.1,>=0.0.17 in /local_disk0/.ephemeral_nfs/envs/pythonEnv-5bbcf85c-ea80-425e-8004-873100942742/lib/python3.11/site-packages (from langchain==0.1.5) (0.0.20)\nRequirement already satisfied: langchain-core<0.2,>=0.1.16 in /local_disk0/.ephemeral_nfs/envs/pythonEnv-5bbcf85c-ea80-425e-8004-873100942742/lib/python3.11/site-packages (from langchain==0.1.5) (0.1.23)\nRequirement already satisfied: langsmith<0.1,>=0.0.83 in /local_disk0/.ephemeral_nfs/envs/pythonEnv-5bbcf85c-ea80-425e-8004-873100942742/lib/python3.11/site-packages (from langchain==0.1.5) (0.0.87)\nRequirement already satisfied: pydantic<3,>=1 in /databricks/python3/lib/python3.11/site-packages (from langchain==0.1.5) (1.10.6)\nRequirement already satisfied: tenacity<9.0.0,>=8.1.0 in /databricks/python3/lib/python3.11/site-packages (from langchain==0.1.5) (8.2.2)\nRequirement already satisfied: mlflow-skinny<3,>=2.4.0 in /databricks/python3/lib/python3.11/site-packages (from databricks-vectorsearch==0.22) (2.11.4)\nRequirement already satisfied: google-auth~=2.0 in /databricks/python3/lib/python3.11/site-packages (from databricks-sdk==0.18.0) (2.35.0)\nRequirement already satisfied: azure-storage-file-datalake>12 in /databricks/python3/lib/python3.11/site-packages (from mlflow[databricks]) (12.14.0)\nRequirement already satisfied: google-cloud-storage>=1.30.0 in /databricks/python3/lib/python3.11/site-packages (from mlflow[databricks]) (2.18.2)\nRequirement already satisfied: boto3>1 in /databricks/python3/lib/python3.11/site-packages (from mlflow[databricks]) (1.34.39)\nRequirement already satisfied: botocore>1.34 in /databricks/python3/lib/python3.11/site-packages (from mlflow[databricks]) (1.34.39)\nRequirement already satisfied: aiohappyeyeballs>=2.3.0 in /local_disk0/.ephemeral_nfs/envs/pythonEnv-5bbcf85c-ea80-425e-8004-873100942742/lib/python3.11/site-packages (from aiohttp<4.0.0,>=3.8.3->langchain==0.1.5) (2.6.1)\nRequirement already satisfied: aiosignal>=1.1.2 in /local_disk0/.ephemeral_nfs/envs/pythonEnv-5bbcf85c-ea80-425e-8004-873100942742/lib/python3.11/site-packages (from aiohttp<4.0.0,>=3.8.3->langchain==0.1.5) (1.3.2)\nRequirement already satisfied: attrs>=17.3.0 in /local_disk0/.ephemeral_nfs/envs/pythonEnv-5bbcf85c-ea80-425e-8004-873100942742/lib/python3.11/site-packages (from aiohttp<4.0.0,>=3.8.3->langchain==0.1.5) (25.3.0)\nRequirement already satisfied: frozenlist>=1.1.1 in /local_disk0/.ephemeral_nfs/envs/pythonEnv-5bbcf85c-ea80-425e-8004-873100942742/lib/python3.11/site-packages (from aiohttp<4.0.0,>=3.8.3->langchain==0.1.5) (1.6.0)\nRequirement already satisfied: multidict<7.0,>=4.5 in /local_disk0/.ephemeral_nfs/envs/pythonEnv-5bbcf85c-ea80-425e-8004-873100942742/lib/python3.11/site-packages (from aiohttp<4.0.0,>=3.8.3->langchain==0.1.5) (6.4.3)\nRequirement already satisfied: propcache>=0.2.0 in /local_disk0/.ephemeral_nfs/envs/pythonEnv-5bbcf85c-ea80-425e-8004-873100942742/lib/python3.11/site-packages (from aiohttp<4.0.0,>=3.8.3->langchain==0.1.5) (0.3.1)\nRequirement already satisfied: yarl<2.0,>=1.17.0 in /local_disk0/.ephemeral_nfs/envs/pythonEnv-5bbcf85c-ea80-425e-8004-873100942742/lib/python3.11/site-packages (from aiohttp<4.0.0,>=3.8.3->langchain==0.1.5) (1.20.0)\nRequirement already satisfied: Mako in /local_disk0/.ephemeral_nfs/envs/pythonEnv-5bbcf85c-ea80-425e-8004-873100942742/lib/python3.11/site-packages (from alembic!=1.10.0,<2->mlflow==2.10.1) (1.3.10)\nRequirement already satisfied: typing-extensions>=4.12 in /local_disk0/.ephemeral_nfs/envs/pythonEnv-5bbcf85c-ea80-425e-8004-873100942742/lib/python3.11/site-packages (from alembic!=1.10.0,<2->mlflow==2.10.1) (4.13.2)\nRequirement already satisfied: azure-core<2.0.0,>=1.28.0 in /databricks/python3/lib/python3.11/site-packages (from azure-storage-file-datalake>12->mlflow[databricks]) (1.32.0)\nRequirement already satisfied: azure-storage-blob<13.0.0,>=12.19.0 in /databricks/python3/lib/python3.11/site-packages (from azure-storage-file-datalake>12->mlflow[databricks]) (12.19.1)\nRequirement already satisfied: isodate>=0.6.1 in /databricks/python3/lib/python3.11/site-packages (from azure-storage-file-datalake>12->mlflow[databricks]) (0.7.2)\nRequirement already satisfied: jmespath<2.0.0,>=0.7.1 in /databricks/python3/lib/python3.11/site-packages (from boto3>1->mlflow[databricks]) (0.10.0)\nRequirement already satisfied: s3transfer<0.11.0,>=0.10.0 in /databricks/python3/lib/python3.11/site-packages (from boto3>1->mlflow[databricks]) (0.10.3)\nRequirement already satisfied: python-dateutil<3.0.0,>=2.1 in /databricks/python3/lib/python3.11/site-packages (from botocore>1.34->mlflow[databricks]) (2.8.2)\nRequirement already satisfied: urllib3<2.1,>=1.25.4 in /databricks/python3/lib/python3.11/site-packages (from botocore>1.34->mlflow[databricks]) (1.26.16)\nRequirement already satisfied: pyjwt>=1.7.0 in /usr/lib/python3/dist-packages (from databricks-cli<1,>=0.8.7->mlflow==2.10.1) (2.3.0)\nRequirement already satisfied: oauthlib>=3.1.0 in /usr/lib/python3/dist-packages (from databricks-cli<1,>=0.8.7->mlflow==2.10.1) (3.2.0)\nRequirement already satisfied: tabulate>=0.7.7 in /local_disk0/.ephemeral_nfs/envs/pythonEnv-5bbcf85c-ea80-425e-8004-873100942742/lib/python3.11/site-packages (from databricks-cli<1,>=0.8.7->mlflow==2.10.1) (0.9.0)\nRequirement already satisfied: six>=1.10.0 in /usr/lib/python3/dist-packages (from databricks-cli<1,>=0.8.7->mlflow==2.10.1) (1.16.0)\nRequirement already satisfied: marshmallow<4.0.0,>=3.18.0 in /local_disk0/.ephemeral_nfs/envs/pythonEnv-5bbcf85c-ea80-425e-8004-873100942742/lib/python3.11/site-packages (from dataclasses-json<0.7,>=0.5.7->langchain==0.1.5) (3.26.1)\nRequirement already satisfied: typing-inspect<1,>=0.4.0 in /local_disk0/.ephemeral_nfs/envs/pythonEnv-5bbcf85c-ea80-425e-8004-873100942742/lib/python3.11/site-packages (from dataclasses-json<0.7,>=0.5.7->langchain==0.1.5) (0.9.0)\nRequirement already satisfied: Werkzeug>=3.1 in /local_disk0/.ephemeral_nfs/envs/pythonEnv-5bbcf85c-ea80-425e-8004-873100942742/lib/python3.11/site-packages (from Flask<4->mlflow==2.10.1) (3.1.3)\nRequirement already satisfied: itsdangerous>=2.2 in /local_disk0/.ephemeral_nfs/envs/pythonEnv-5bbcf85c-ea80-425e-8004-873100942742/lib/python3.11/site-packages (from Flask<4->mlflow==2.10.1) (2.2.0)\nRequirement already satisfied: blinker>=1.9 in /local_disk0/.ephemeral_nfs/envs/pythonEnv-5bbcf85c-ea80-425e-8004-873100942742/lib/python3.11/site-packages (from Flask<4->mlflow==2.10.1) (1.9.0)\nRequirement already satisfied: gitdb<5,>=4.0.1 in /databricks/python3/lib/python3.11/site-packages (from gitpython<4,>=2.1.0->mlflow==2.10.1) (4.0.11)\nRequirement already satisfied: cachetools<6.0,>=2.0.0 in /databricks/python3/lib/python3.11/site-packages (from google-auth~=2.0->databricks-sdk==0.18.0) (5.5.0)\nRequirement already satisfied: pyasn1-modules>=0.2.1 in /databricks/python3/lib/python3.11/site-packages (from google-auth~=2.0->databricks-sdk==0.18.0) (0.2.8)\nRequirement already satisfied: rsa<5,>=3.1.4 in /databricks/python3/lib/python3.11/site-packages (from google-auth~=2.0->databricks-sdk==0.18.0) (4.9)\nRequirement already satisfied: google-api-core<3.0.0dev,>=2.15.0 in /databricks/python3/lib/python3.11/site-packages (from google-cloud-storage>=1.30.0->mlflow[databricks]) (2.18.0)\nRequirement already satisfied: google-cloud-core<3.0dev,>=2.3.0 in /databricks/python3/lib/python3.11/site-packages (from google-cloud-storage>=1.30.0->mlflow[databricks]) (2.4.1)\nRequirement already satisfied: google-resumable-media>=2.7.2 in /databricks/python3/lib/python3.11/site-packages (from google-cloud-storage>=1.30.0->mlflow[databricks]) (2.7.2)\nRequirement already satisfied: google-crc32c<2.0dev,>=1.0 in /databricks/python3/lib/python3.11/site-packages (from google-cloud-storage>=1.30.0->mlflow[databricks]) (1.6.0)\nRequirement already satisfied: zipp>=0.5 in /databricks/python3/lib/python3.11/site-packages (from importlib-metadata!=4.7.0,<8,>=3.7.0->mlflow==2.10.1) (3.11.0)\nRequirement already satisfied: MarkupSafe>=2.0 in /local_disk0/.ephemeral_nfs/envs/pythonEnv-5bbcf85c-ea80-425e-8004-873100942742/lib/python3.11/site-packages (from Jinja2<4,>=2.11->mlflow==2.10.1) (3.0.2)\nRequirement already satisfied: jsonpointer>=1.9 in /local_disk0/.ephemeral_nfs/envs/pythonEnv-5bbcf85c-ea80-425e-8004-873100942742/lib/python3.11/site-packages (from jsonpatch<2.0,>=1.33->langchain==0.1.5) (3.0.0)\nRequirement already satisfied: anyio<5,>=3 in /local_disk0/.ephemeral_nfs/envs/pythonEnv-5bbcf85c-ea80-425e-8004-873100942742/lib/python3.11/site-packages (from langchain-core<0.2,>=0.1.16->langchain==0.1.5) (4.9.0)\nRequirement already satisfied: contourpy>=1.0.1 in /databricks/python3/lib/python3.11/site-packages (from matplotlib<4->mlflow==2.10.1) (1.0.5)\nRequirement already satisfied: cycler>=0.10 in /databricks/python3/lib/python3.11/site-packages (from matplotlib<4->mlflow==2.10.1) (0.11.0)\nRequirement already satisfied: fonttools>=4.22.0 in /databricks/python3/lib/python3.11/site-packages (from matplotlib<4->mlflow==2.10.1) (4.25.0)\nRequirement already satisfied: kiwisolver>=1.0.1 in /databricks/python3/lib/python3.11/site-packages (from matplotlib<4->mlflow==2.10.1) (1.4.4)\nRequirement already satisfied: pillow>=6.2.0 in /databricks/python3/lib/python3.11/site-packages (from matplotlib<4->mlflow==2.10.1) (10.3.0)\nRequirement already satisfied: pyparsing<3.1,>=2.3.1 in /databricks/python3/lib/python3.11/site-packages (from matplotlib<4->mlflow==2.10.1) (3.0.9)\nRequirement already satisfied: charset-normalizer<4,>=2 in /databricks/python3/lib/python3.11/site-packages (from requests<3,>=2.17.3->mlflow==2.10.1) (2.0.4)\nRequirement already satisfied: idna<4,>=2.5 in /databricks/python3/lib/python3.11/site-packages (from requests<3,>=2.17.3->mlflow==2.10.1) (3.4)\nRequirement already satisfied: certifi>=2017.4.17 in /databricks/python3/lib/python3.11/site-packages (from requests<3,>=2.17.3->mlflow==2.10.1) (2023.7.22)\nRequirement already satisfied: joblib>=1.1.1 in /databricks/python3/lib/python3.11/site-packages (from scikit-learn<2->mlflow==2.10.1) (1.2.0)\nRequirement already satisfied: threadpoolctl>=2.0.0 in /databricks/python3/lib/python3.11/site-packages (from scikit-learn<2->mlflow==2.10.1) (2.2.0)\nRequirement already satisfied: greenlet>=1 in /local_disk0/.ephemeral_nfs/envs/pythonEnv-5bbcf85c-ea80-425e-8004-873100942742/lib/python3.11/site-packages (from sqlalchemy<3,>=1.4.0->mlflow==2.10.1) (3.2.1)\nRequirement already satisfied: sniffio>=1.1 in /local_disk0/.ephemeral_nfs/envs/pythonEnv-5bbcf85c-ea80-425e-8004-873100942742/lib/python3.11/site-packages (from anyio<5,>=3->langchain-core<0.2,>=0.1.16->langchain==0.1.5) (1.3.1)\nRequirement already satisfied: cryptography>=2.1.4 in /databricks/python3/lib/python3.11/site-packages (from azure-storage-blob<13.0.0,>=12.19.0->azure-storage-file-datalake>12->mlflow[databricks]) (41.0.3)\nRequirement already satisfied: smmap<6,>=3.0.1 in /databricks/python3/lib/python3.11/site-packages (from gitdb<5,>=4.0.1->gitpython<4,>=2.1.0->mlflow==2.10.1) (5.0.1)\nRequirement already satisfied: googleapis-common-protos<2.0.dev0,>=1.56.2 in /databricks/python3/lib/python3.11/site-packages (from google-api-core<3.0.0dev,>=2.15.0->google-cloud-storage>=1.30.0->mlflow[databricks]) (1.65.0)\nRequirement already satisfied: proto-plus<2.0.0dev,>=1.22.3 in /databricks/python3/lib/python3.11/site-packages (from google-api-core<3.0.0dev,>=2.15.0->google-cloud-storage>=1.30.0->mlflow[databricks]) (1.25.0)\nRequirement already satisfied: pyasn1<0.5.0,>=0.4.6 in /databricks/python3/lib/python3.11/site-packages (from pyasn1-modules>=0.2.1->google-auth~=2.0->databricks-sdk==0.18.0) (0.4.8)\nRequirement already satisfied: mypy-extensions>=0.3.0 in /databricks/python3/lib/python3.11/site-packages (from typing-inspect<1,>=0.4.0->dataclasses-json<0.7,>=0.5.7->langchain==0.1.5) (0.4.3)\nRequirement already satisfied: cffi>=1.12 in /databricks/python3/lib/python3.11/site-packages (from cryptography>=2.1.4->azure-storage-blob<13.0.0,>=12.19.0->azure-storage-file-datalake>12->mlflow[databricks]) (1.15.1)\nRequirement already satisfied: pycparser in /databricks/python3/lib/python3.11/site-packages (from cffi>=1.12->cryptography>=2.1.4->azure-storage-blob<13.0.0,>=12.19.0->azure-storage-file-datalake>12->mlflow[databricks]) (2.21)\n\u001B[43mNote: you may need to restart the kernel using %restart_python or dbutils.library.restartPython() to use updated packages.\u001B[0m\n"
     ]
    }
   ],
   "source": [
    "%pip install mlflow==2.10.1 langchain==0.1.5 databricks-vectorsearch==0.22 databricks-sdk==0.18.0 mlflow[databricks]\n",
    "\n",
    "## restart kernel after installing\n",
    "dbutils.library.restartPython()"
   ]
  },
  {
   "cell_type": "markdown",
   "metadata": {
    "application/vnd.databricks.v1+cell": {
     "cellMetadata": {},
     "inputWidgets": {},
     "nuid": "3714fa68-5d92-40b4-871f-272cf808aea3",
     "showTitle": false,
     "tableResultSettingsMap": {},
     "title": ""
    }
   },
   "source": [
    "## 2. Set Workspace Parameters\n",
    "* In order to do this you will need to creat a secret scope. The steps to do this using the Databricks CLI or SDK are:\n",
    "\n",
    "1. Create a Secret Scope: First, create a secret scope if you don't already have one. You can do this using the Databricks CLI or the Databricks SDK for Python.\n",
    "\n",
    "Using Databricks CLI:\n",
    "```\n",
    "%bash\n",
    "databricks secrets create-scope --scope demo\n",
    "```\n",
    "\n",
    "2. Add a Secret to the Scope: Add your secret token to the created scope. You can do this using the Databricks CLI.\n",
    "\n",
    "Using Databricks CLI:\n",
    "```\n",
    "%bash\n",
    "databricks secrets put --scope demo --key azure3-token --string-value <your-secret-token>\n",
    "```\n",
    "\n",
    "3. Access token in notebook with code below. "
   ]
  },
  {
   "cell_type": "markdown",
   "metadata": {
    "application/vnd.databricks.v1+cell": {
     "cellMetadata": {},
     "inputWidgets": {},
     "nuid": "82834a4c-3a1c-469a-b2a2-4bfe3e5bbc39",
     "showTitle": false,
     "tableResultSettingsMap": {},
     "title": ""
    }
   },
   "source": [
    "## 3. Build Retriever"
   ]
  },
  {
   "cell_type": "code",
   "execution_count": 0,
   "metadata": {
    "application/vnd.databricks.v1+cell": {
     "cellMetadata": {
      "byteLimit": 2048000,
      "rowLimit": 10000
     },
     "inputWidgets": {},
     "nuid": "3c7a4b25-2b47-4705-9bac-1ac751a5c407",
     "showTitle": false,
     "tableResultSettingsMap": {},
     "title": ""
    }
   },
   "outputs": [],
   "source": [
    "from databricks.vector_search.client import VectorSearchClient\n",
    "from langchain_community.vectorstores import DatabricksVectorSearch\n",
    "from langchain_community.embeddings import DatabricksEmbeddings\n",
    "\n",
    "# 0. Set the Databricks host environment variable\n",
    "os.environ[\"DATABRICKS_HOST\"] = dbutils.notebook.entry_point.getDbutils().notebook().getContext().apiUrl().get()\n",
    "\n",
    "## 1. init embedding model -- same embedding model as vector index\n",
    "embedding_model = DatabricksEmbeddings(endpoint=\"databricks-gte-large-en\")\n",
    "\n",
    "## vector search endpoint name\n",
    "VECTOR_SEARCH_ENDPOINT_NAME = \"doc_vector_endpoint\"\n",
    "INDEX_NAME='workspace.llm_rag_demos.docs_idx' ## name of delta table with vector index\n",
    "\n",
    "## 2. Retriever function\n",
    "# Define the retriever function\n",
    "def get_retriever():\n",
    "    vsc = VectorSearchClient(workspace_url=os.environ[\"DATABRICKS_HOST\"], disable_notice=True)\n",
    "    vsc_index = vsc.get_index(endpoint_name=VECTOR_SEARCH_ENDPOINT_NAME, index_name=INDEX_NAME)\n",
    "    vectorstore = DatabricksVectorSearch(vsc_index, text_column=\"text\", embedding=embedding_model)\n",
    "    return vectorstore.as_retriever()\n",
    "    \n"
   ]
  },
  {
   "cell_type": "markdown",
   "metadata": {
    "application/vnd.databricks.v1+cell": {
     "cellMetadata": {},
     "inputWidgets": {},
     "nuid": "dbce5adf-0d42-4aa4-ab44-884d7349f14a",
     "showTitle": false,
     "tableResultSettingsMap": {},
     "title": ""
    }
   },
   "source": [
    "## 4. Create RAG using LangChain\n",
    "* Hugging Face model card for the databricks model: https://huggingface.co/databricks/dbrx-instruct\n",
    "* Note, the model is not considered \"multilingual\" as it was trained on mostly english text."
   ]
  },
  {
   "cell_type": "code",
   "execution_count": 0,
   "metadata": {
    "application/vnd.databricks.v1+cell": {
     "cellMetadata": {
      "byteLimit": 2048000,
      "rowLimit": 10000
     },
     "inputWidgets": {},
     "nuid": "33f14249-4b08-4c19-9b29-3a39e87a4c35",
     "showTitle": false,
     "tableResultSettingsMap": {},
     "title": ""
    }
   },
   "outputs": [
    {
     "output_type": "stream",
     "name": "stderr",
     "output_type": "stream",
     "text": [
      "WARNING:langchain_community.vectorstores.databricks_vector_search:embedding model is not used in delta-sync index with Databricks-managed embeddings.\n"
     ]
    }
   ],
   "source": [
    "from langchain.chains import RetrievalQA\n",
    "from langchain.prompts import PromptTemplate\n",
    "from langchain_community.chat_models import ChatDatabricks\n",
    "\n",
    "## 1. define LLM chat model\n",
    "llm = ChatDatabricks(endpoint=\"databricks-dbrx-instruct\",\n",
    "                     max_tokens=400)\n",
    "\n",
    "## 2. Chat Template\n",
    "CHAT_TEMPLATE = \"\"\"You are an expert assistant for home appliance users. You are tasked with answering hot to perform maintenance and troubleshooting questions about home appliances that you will have data on. If the question you are given is not related to one of these topics, please decline to answer. If you don't know the answer, simply say \"I don't know\", do not try to make up an answer without context. If the question appears to be for an appliance you don't have data on, please state \"I do not have any data to answer that question.\" Keep your answer as concise as possible. Provide all answers in English only. If the question is in another language such as spanish than translate it and answer in English.\n",
    "Use the following context to answer the question at the end.\n",
    "{context}\n",
    "Question: {question}\n",
    "Answer:\n",
    "\"\"\"\n",
    "## 3. Set up PromptTemplate\n",
    "prompt = PromptTemplate(template=CHAT_TEMPLATE, input_variables=[\"context\", \"question\"])\n",
    "\n",
    "## 4. Create RAG chain \n",
    "chain = RetrievalQA.from_chain_type(llm=llm,\n",
    "                                  chain_type=\"stuff\",\n",
    "                                  retriever=get_retriever(),\n",
    "                                  chain_type_kwargs={\"prompt\": prompt})"
   ]
  },
  {
   "cell_type": "markdown",
   "metadata": {
    "application/vnd.databricks.v1+cell": {
     "cellMetadata": {},
     "inputWidgets": {},
     "nuid": "8517eb70-0406-44f8-870a-16a054140359",
     "showTitle": false,
     "tableResultSettingsMap": {},
     "title": ""
    }
   },
   "source": [
    "## 5. Test LangChain Retriever\n"
   ]
  },
  {
   "cell_type": "code",
   "execution_count": 0,
   "metadata": {
    "application/vnd.databricks.v1+cell": {
     "cellMetadata": {
      "byteLimit": 2048000,
      "rowLimit": 10000
     },
     "inputWidgets": {},
     "nuid": "a837025b-b6c6-455f-b42c-5c9854ec68f7",
     "showTitle": false,
     "tableResultSettingsMap": {},
     "title": ""
    }
   },
   "outputs": [
    {
     "output_type": "stream",
     "name": "stdout",
     "output_type": "stream",
     "text": [
      "The \"SUDS\" message on a washing machine indicates that there are too many suds in the machine. This can be caused by using too much detergent or the wrong type of detergent. To fix this issue, you can try running a rinse cycle to remove the excess suds, and then adjust the amount or type of detergent you are using. If the problem persists, you may need to consult the user manual or contact a service center for further assistance.\n"
     ]
    }
   ],
   "source": [
    "## test query\n",
    "question = {\"query\": \"What does a SUDS message mean?\"}\n",
    "answer = chain.run(question)\n",
    "print(answer)"
   ]
  },
  {
   "cell_type": "markdown",
   "metadata": {
    "application/vnd.databricks.v1+cell": {
     "cellMetadata": {},
     "inputWidgets": {},
     "nuid": "75cf26bb-984f-49d4-a355-f78670da6545",
     "showTitle": false,
     "tableResultSettingsMap": {},
     "title": ""
    }
   },
   "source": [
    "## 6. Register Chain as a Model in the Databricks Unity Catalog"
   ]
  },
  {
   "cell_type": "code",
   "execution_count": 0,
   "metadata": {
    "application/vnd.databricks.v1+cell": {
     "cellMetadata": {
      "byteLimit": 2048000,
      "rowLimit": 10000
     },
     "inputWidgets": {},
     "nuid": "57dacf7f-3568-4834-9b56-bdfdd1363e64",
     "showTitle": false,
     "tableResultSettingsMap": {},
     "title": ""
    }
   },
   "outputs": [
    {
     "output_type": "stream",
     "name": "stderr",
     "output_type": "stream",
     "text": [
      "2025/04/30 19:39:15 INFO mlflow.models.utils: We convert input dictionaries to pandas DataFrames such that each key represents a column, collectively constituting a single row of data. If you would like to save data as multiple rows, please convert your data to a pandas DataFrame before passing to input_example.\nRegistered model 'workspace.llm_rag_demos.rag_model' already exists. Creating a new version of this model...\n"
     ]
    },
    {
     "output_type": "display_data",
     "data": {
      "text/plain": [
       "\u001B[0;31m---------------------------------------------------------------------------\u001B[0m\n",
       "\u001B[0;31mMlflowException\u001B[0m                           Traceback (most recent call last)\n",
       "File \u001B[0;32m<command-5282819306779848>, line 12\u001B[0m\n",
       "\u001B[1;32m     10\u001B[0m \u001B[38;5;28;01mwith\u001B[39;00m mlflow\u001B[38;5;241m.\u001B[39mstart_run(run_name\u001B[38;5;241m=\u001B[39m\u001B[38;5;124m\"\u001B[39m\u001B[38;5;124mappliance_chatbot_run\u001B[39m\u001B[38;5;124m\"\u001B[39m) \u001B[38;5;28;01mas\u001B[39;00m run:\n",
       "\u001B[1;32m     11\u001B[0m   signature \u001B[38;5;241m=\u001B[39m infer_signature(question, answer)\n",
       "\u001B[0;32m---> 12\u001B[0m   model_info \u001B[38;5;241m=\u001B[39m mlflow\u001B[38;5;241m.\u001B[39mlangchain\u001B[38;5;241m.\u001B[39mlog_model(\n",
       "\u001B[1;32m     13\u001B[0m     chain,\n",
       "\u001B[1;32m     14\u001B[0m     loader_fn\u001B[38;5;241m=\u001B[39m\u001B[38;5;28;01mlambda\u001B[39;00m: get_retriever, \u001B[38;5;66;03m## pass token to loader function\u001B[39;00m\n",
       "\u001B[1;32m     15\u001B[0m     artifact_path\u001B[38;5;241m=\u001B[39m\u001B[38;5;124m\"\u001B[39m\u001B[38;5;124mchain\u001B[39m\u001B[38;5;124m\"\u001B[39m,\n",
       "\u001B[1;32m     16\u001B[0m     registered_model_name\u001B[38;5;241m=\u001B[39mmodel_name,\n",
       "\u001B[1;32m     17\u001B[0m     pip_requirements\u001B[38;5;241m=\u001B[39m[\n",
       "\u001B[1;32m     18\u001B[0m       \u001B[38;5;124m\"\u001B[39m\u001B[38;5;124mmlflow==\u001B[39m\u001B[38;5;124m\"\u001B[39m \u001B[38;5;241m+\u001B[39m mlflow\u001B[38;5;241m.\u001B[39m__version__,\n",
       "\u001B[1;32m     19\u001B[0m       \u001B[38;5;124m\"\u001B[39m\u001B[38;5;124mlangchain==\u001B[39m\u001B[38;5;124m\"\u001B[39m \u001B[38;5;241m+\u001B[39m langchain\u001B[38;5;241m.\u001B[39m__version__,\n",
       "\u001B[1;32m     20\u001B[0m       \u001B[38;5;124m\"\u001B[39m\u001B[38;5;124mdatabricks-vectorsearch\u001B[39m\u001B[38;5;124m\"\u001B[39m,\n",
       "\u001B[1;32m     21\u001B[0m     ],\n",
       "\u001B[1;32m     22\u001B[0m     input_example\u001B[38;5;241m=\u001B[39mquestion,\n",
       "\u001B[1;32m     23\u001B[0m     signature\u001B[38;5;241m=\u001B[39msignature\n",
       "\u001B[1;32m     24\u001B[0m   )\n",
       "\u001B[1;32m     26\u001B[0m \u001B[38;5;66;03m## show model_info\u001B[39;00m\n",
       "\u001B[1;32m     27\u001B[0m display(model_info)\n",
       "\n",
       "File \u001B[0;32m/local_disk0/.ephemeral_nfs/envs/pythonEnv-5bbcf85c-ea80-425e-8004-873100942742/lib/python3.11/site-packages/mlflow/langchain/__init__.py:433\u001B[0m, in \u001B[0;36mlog_model\u001B[0;34m(lc_model, artifact_path, conda_env, code_paths, registered_model_name, signature, input_example, await_registration_for, pip_requirements, extra_pip_requirements, metadata, loader_fn, persist_dir, example_no_conversion, run_id)\u001B[0m\n",
       "\u001B[1;32m    328\u001B[0m \u001B[38;5;250m\u001B[39m\u001B[38;5;124;03m\"\"\"\u001B[39;00m\n",
       "\u001B[1;32m    329\u001B[0m \u001B[38;5;124;03mLog a LangChain model as an MLflow artifact for the current run.\u001B[39;00m\n",
       "\u001B[1;32m    330\u001B[0m \n",
       "\u001B[0;32m   (...)\u001B[0m\n",
       "\u001B[1;32m    429\u001B[0m \u001B[38;5;124;03m    metadata of the logged model.\u001B[39;00m\n",
       "\u001B[1;32m    430\u001B[0m \u001B[38;5;124;03m\"\"\"\u001B[39;00m\n",
       "\u001B[1;32m    431\u001B[0m lc_model \u001B[38;5;241m=\u001B[39m _validate_and_wrap_lc_model(lc_model, loader_fn)\n",
       "\u001B[0;32m--> 433\u001B[0m \u001B[38;5;28;01mreturn\u001B[39;00m Model\u001B[38;5;241m.\u001B[39mlog(\n",
       "\u001B[1;32m    434\u001B[0m     artifact_path\u001B[38;5;241m=\u001B[39martifact_path,\n",
       "\u001B[1;32m    435\u001B[0m     flavor\u001B[38;5;241m=\u001B[39mmlflow\u001B[38;5;241m.\u001B[39mlangchain,\n",
       "\u001B[1;32m    436\u001B[0m     registered_model_name\u001B[38;5;241m=\u001B[39mregistered_model_name,\n",
       "\u001B[1;32m    437\u001B[0m     lc_model\u001B[38;5;241m=\u001B[39mlc_model,\n",
       "\u001B[1;32m    438\u001B[0m     conda_env\u001B[38;5;241m=\u001B[39mconda_env,\n",
       "\u001B[1;32m    439\u001B[0m     code_paths\u001B[38;5;241m=\u001B[39mcode_paths,\n",
       "\u001B[1;32m    440\u001B[0m     signature\u001B[38;5;241m=\u001B[39msignature,\n",
       "\u001B[1;32m    441\u001B[0m     input_example\u001B[38;5;241m=\u001B[39minput_example,\n",
       "\u001B[1;32m    442\u001B[0m     await_registration_for\u001B[38;5;241m=\u001B[39mawait_registration_for,\n",
       "\u001B[1;32m    443\u001B[0m     pip_requirements\u001B[38;5;241m=\u001B[39mpip_requirements,\n",
       "\u001B[1;32m    444\u001B[0m     extra_pip_requirements\u001B[38;5;241m=\u001B[39mextra_pip_requirements,\n",
       "\u001B[1;32m    445\u001B[0m     metadata\u001B[38;5;241m=\u001B[39mmetadata,\n",
       "\u001B[1;32m    446\u001B[0m     loader_fn\u001B[38;5;241m=\u001B[39mloader_fn,\n",
       "\u001B[1;32m    447\u001B[0m     persist_dir\u001B[38;5;241m=\u001B[39mpersist_dir,\n",
       "\u001B[1;32m    448\u001B[0m     example_no_conversion\u001B[38;5;241m=\u001B[39mexample_no_conversion,\n",
       "\u001B[1;32m    449\u001B[0m     run_id\u001B[38;5;241m=\u001B[39mrun_id,\n",
       "\u001B[1;32m    450\u001B[0m )\n",
       "\n",
       "File \u001B[0;32m/local_disk0/.ephemeral_nfs/envs/pythonEnv-5bbcf85c-ea80-425e-8004-873100942742/lib/python3.11/site-packages/mlflow/models/model.py:632\u001B[0m, in \u001B[0;36mModel.log\u001B[0;34m(cls, artifact_path, flavor, registered_model_name, await_registration_for, metadata, run_id, **kwargs)\u001B[0m\n",
       "\u001B[1;32m    630\u001B[0m         _logger\u001B[38;5;241m.\u001B[39mdebug(\u001B[38;5;124m\"\u001B[39m\u001B[38;5;124m\"\u001B[39m, exc_info\u001B[38;5;241m=\u001B[39m\u001B[38;5;28;01mTrue\u001B[39;00m)\n",
       "\u001B[1;32m    631\u001B[0m     \u001B[38;5;28;01mif\u001B[39;00m registered_model_name \u001B[38;5;129;01mis\u001B[39;00m \u001B[38;5;129;01mnot\u001B[39;00m \u001B[38;5;28;01mNone\u001B[39;00m:\n",
       "\u001B[0;32m--> 632\u001B[0m         mlflow\u001B[38;5;241m.\u001B[39mtracking\u001B[38;5;241m.\u001B[39m_model_registry\u001B[38;5;241m.\u001B[39mfluent\u001B[38;5;241m.\u001B[39m_register_model(\n",
       "\u001B[1;32m    633\u001B[0m             \u001B[38;5;124mf\u001B[39m\u001B[38;5;124m\"\u001B[39m\u001B[38;5;124mruns:/\u001B[39m\u001B[38;5;132;01m{\u001B[39;00mrun_id\u001B[38;5;132;01m}\u001B[39;00m\u001B[38;5;124m/\u001B[39m\u001B[38;5;132;01m{\u001B[39;00mmlflow_model\u001B[38;5;241m.\u001B[39martifact_path\u001B[38;5;132;01m}\u001B[39;00m\u001B[38;5;124m\"\u001B[39m,\n",
       "\u001B[1;32m    634\u001B[0m             registered_model_name,\n",
       "\u001B[1;32m    635\u001B[0m             await_registration_for\u001B[38;5;241m=\u001B[39mawait_registration_for,\n",
       "\u001B[1;32m    636\u001B[0m             local_model_path\u001B[38;5;241m=\u001B[39mlocal_path,\n",
       "\u001B[1;32m    637\u001B[0m         )\n",
       "\u001B[1;32m    638\u001B[0m \u001B[38;5;28;01mreturn\u001B[39;00m mlflow_model\u001B[38;5;241m.\u001B[39mget_model_info()\n",
       "\n",
       "File \u001B[0;32m/local_disk0/.ephemeral_nfs/envs/pythonEnv-5bbcf85c-ea80-425e-8004-873100942742/lib/python3.11/site-packages/mlflow/tracking/_model_registry/fluent.py:110\u001B[0m, in \u001B[0;36m_register_model\u001B[0;34m(model_uri, name, await_registration_for, tags, local_model_path)\u001B[0m\n",
       "\u001B[1;32m    107\u001B[0m     source \u001B[38;5;241m=\u001B[39m RunsArtifactRepository\u001B[38;5;241m.\u001B[39mget_underlying_uri(model_uri)\n",
       "\u001B[1;32m    108\u001B[0m     (run_id, _) \u001B[38;5;241m=\u001B[39m RunsArtifactRepository\u001B[38;5;241m.\u001B[39mparse_runs_uri(model_uri)\n",
       "\u001B[0;32m--> 110\u001B[0m create_version_response \u001B[38;5;241m=\u001B[39m client\u001B[38;5;241m.\u001B[39m_create_model_version(\n",
       "\u001B[1;32m    111\u001B[0m     name\u001B[38;5;241m=\u001B[39mname,\n",
       "\u001B[1;32m    112\u001B[0m     source\u001B[38;5;241m=\u001B[39msource,\n",
       "\u001B[1;32m    113\u001B[0m     run_id\u001B[38;5;241m=\u001B[39mrun_id,\n",
       "\u001B[1;32m    114\u001B[0m     tags\u001B[38;5;241m=\u001B[39mtags,\n",
       "\u001B[1;32m    115\u001B[0m     await_creation_for\u001B[38;5;241m=\u001B[39mawait_registration_for,\n",
       "\u001B[1;32m    116\u001B[0m     local_model_path\u001B[38;5;241m=\u001B[39mlocal_model_path,\n",
       "\u001B[1;32m    117\u001B[0m )\n",
       "\u001B[1;32m    118\u001B[0m eprint(\n",
       "\u001B[1;32m    119\u001B[0m     \u001B[38;5;124mf\u001B[39m\u001B[38;5;124m\"\u001B[39m\u001B[38;5;124mCreated version \u001B[39m\u001B[38;5;124m'\u001B[39m\u001B[38;5;132;01m{\u001B[39;00mcreate_version_response\u001B[38;5;241m.\u001B[39mversion\u001B[38;5;132;01m}\u001B[39;00m\u001B[38;5;124m'\u001B[39m\u001B[38;5;124m of model \u001B[39m\u001B[38;5;124m\"\u001B[39m\n",
       "\u001B[1;32m    120\u001B[0m     \u001B[38;5;124mf\u001B[39m\u001B[38;5;124m\"\u001B[39m\u001B[38;5;124m'\u001B[39m\u001B[38;5;132;01m{\u001B[39;00mcreate_version_response\u001B[38;5;241m.\u001B[39mname\u001B[38;5;132;01m}\u001B[39;00m\u001B[38;5;124m'\u001B[39m\u001B[38;5;124m.\u001B[39m\u001B[38;5;124m\"\u001B[39m\n",
       "\u001B[1;32m    121\u001B[0m )\n",
       "\u001B[1;32m    122\u001B[0m \u001B[38;5;28;01mreturn\u001B[39;00m create_version_response\n",
       "\n",
       "File \u001B[0;32m/local_disk0/.ephemeral_nfs/envs/pythonEnv-5bbcf85c-ea80-425e-8004-873100942742/lib/python3.11/site-packages/mlflow/tracking/client.py:2649\u001B[0m, in \u001B[0;36mMlflowClient._create_model_version\u001B[0;34m(self, name, source, run_id, tags, run_link, description, await_creation_for, local_model_path)\u001B[0m\n",
       "\u001B[1;32m   2641\u001B[0m     \u001B[38;5;66;03m# NOTE: we can't easily delete the target temp location due to the async nature\u001B[39;00m\n",
       "\u001B[1;32m   2642\u001B[0m     \u001B[38;5;66;03m# of the model version creation - printing to let the user know.\u001B[39;00m\n",
       "\u001B[1;32m   2643\u001B[0m     eprint(\n",
       "\u001B[1;32m   2644\u001B[0m         \u001B[38;5;124mf\u001B[39m\u001B[38;5;124m\"\u001B[39m\u001B[38;5;124m=== Source model files were copied to \u001B[39m\u001B[38;5;132;01m{\u001B[39;00mnew_source\u001B[38;5;132;01m}\u001B[39;00m\u001B[38;5;124m\"\u001B[39m\n",
       "\u001B[1;32m   2645\u001B[0m         \u001B[38;5;241m+\u001B[39m \u001B[38;5;124m\"\u001B[39m\u001B[38;5;124m in the model registry workspace. You may want to delete the files once the\u001B[39m\u001B[38;5;124m\"\u001B[39m\n",
       "\u001B[1;32m   2646\u001B[0m         \u001B[38;5;241m+\u001B[39m \u001B[38;5;124m\"\u001B[39m\u001B[38;5;124m model version is in \u001B[39m\u001B[38;5;124m'\u001B[39m\u001B[38;5;124mREADY\u001B[39m\u001B[38;5;124m'\u001B[39m\u001B[38;5;124m status. You can also find this location in the\u001B[39m\u001B[38;5;124m\"\u001B[39m\n",
       "\u001B[1;32m   2647\u001B[0m         \u001B[38;5;241m+\u001B[39m \u001B[38;5;124m\"\u001B[39m\u001B[38;5;124m `source` field of the created model version. ===\u001B[39m\u001B[38;5;124m\"\u001B[39m\n",
       "\u001B[1;32m   2648\u001B[0m     )\n",
       "\u001B[0;32m-> 2649\u001B[0m \u001B[38;5;28;01mreturn\u001B[39;00m \u001B[38;5;28mself\u001B[39m\u001B[38;5;241m.\u001B[39m_get_registry_client()\u001B[38;5;241m.\u001B[39mcreate_model_version(\n",
       "\u001B[1;32m   2650\u001B[0m     name\u001B[38;5;241m=\u001B[39mname,\n",
       "\u001B[1;32m   2651\u001B[0m     source\u001B[38;5;241m=\u001B[39mnew_source,\n",
       "\u001B[1;32m   2652\u001B[0m     run_id\u001B[38;5;241m=\u001B[39mrun_id,\n",
       "\u001B[1;32m   2653\u001B[0m     tags\u001B[38;5;241m=\u001B[39mtags,\n",
       "\u001B[1;32m   2654\u001B[0m     run_link\u001B[38;5;241m=\u001B[39mrun_link,\n",
       "\u001B[1;32m   2655\u001B[0m     description\u001B[38;5;241m=\u001B[39mdescription,\n",
       "\u001B[1;32m   2656\u001B[0m     await_creation_for\u001B[38;5;241m=\u001B[39mawait_creation_for,\n",
       "\u001B[1;32m   2657\u001B[0m     local_model_path\u001B[38;5;241m=\u001B[39mlocal_model_path,\n",
       "\u001B[1;32m   2658\u001B[0m )\n",
       "\n",
       "File \u001B[0;32m/local_disk0/.ephemeral_nfs/envs/pythonEnv-5bbcf85c-ea80-425e-8004-873100942742/lib/python3.11/site-packages/mlflow/tracking/_model_registry/client.py:190\u001B[0m, in \u001B[0;36mModelRegistryClient.create_model_version\u001B[0;34m(self, name, source, run_id, tags, run_link, description, await_creation_for, local_model_path)\u001B[0m\n",
       "\u001B[1;32m    188\u001B[0m arg_names \u001B[38;5;241m=\u001B[39m _get_arg_names(\u001B[38;5;28mself\u001B[39m\u001B[38;5;241m.\u001B[39mstore\u001B[38;5;241m.\u001B[39mcreate_model_version)\n",
       "\u001B[1;32m    189\u001B[0m \u001B[38;5;28;01mif\u001B[39;00m \u001B[38;5;124m\"\u001B[39m\u001B[38;5;124mlocal_model_path\u001B[39m\u001B[38;5;124m\"\u001B[39m \u001B[38;5;129;01min\u001B[39;00m arg_names:\n",
       "\u001B[0;32m--> 190\u001B[0m     mv \u001B[38;5;241m=\u001B[39m \u001B[38;5;28mself\u001B[39m\u001B[38;5;241m.\u001B[39mstore\u001B[38;5;241m.\u001B[39mcreate_model_version(\n",
       "\u001B[1;32m    191\u001B[0m         name,\n",
       "\u001B[1;32m    192\u001B[0m         source,\n",
       "\u001B[1;32m    193\u001B[0m         run_id,\n",
       "\u001B[1;32m    194\u001B[0m         tags,\n",
       "\u001B[1;32m    195\u001B[0m         run_link,\n",
       "\u001B[1;32m    196\u001B[0m         description,\n",
       "\u001B[1;32m    197\u001B[0m         local_model_path\u001B[38;5;241m=\u001B[39mlocal_model_path,\n",
       "\u001B[1;32m    198\u001B[0m     )\n",
       "\u001B[1;32m    199\u001B[0m \u001B[38;5;28;01melse\u001B[39;00m:\n",
       "\u001B[1;32m    200\u001B[0m     \u001B[38;5;66;03m# Fall back to calling create_model_version without\u001B[39;00m\n",
       "\u001B[1;32m    201\u001B[0m     \u001B[38;5;66;03m# local_model_path since old model registry store implementations may not\u001B[39;00m\n",
       "\u001B[1;32m    202\u001B[0m     \u001B[38;5;66;03m# support the local_model_path argument.\u001B[39;00m\n",
       "\u001B[1;32m    203\u001B[0m     mv \u001B[38;5;241m=\u001B[39m \u001B[38;5;28mself\u001B[39m\u001B[38;5;241m.\u001B[39mstore\u001B[38;5;241m.\u001B[39mcreate_model_version(name, source, run_id, tags, run_link, description)\n",
       "\n",
       "File \u001B[0;32m/local_disk0/.ephemeral_nfs/envs/pythonEnv-5bbcf85c-ea80-425e-8004-873100942742/lib/python3.11/site-packages/mlflow/store/_unity_catalog/registry/rest_store.py:569\u001B[0m, in \u001B[0;36mUcModelRegistryStore.create_model_version\u001B[0;34m(self, name, source, run_id, tags, run_link, description, local_model_path)\u001B[0m\n",
       "\u001B[1;32m    563\u001B[0m scoped_token \u001B[38;5;241m=\u001B[39m \u001B[38;5;28mself\u001B[39m\u001B[38;5;241m.\u001B[39m_get_temporary_model_version_write_credentials(\n",
       "\u001B[1;32m    564\u001B[0m     name\u001B[38;5;241m=\u001B[39mfull_name, version\u001B[38;5;241m=\u001B[39mversion_number\n",
       "\u001B[1;32m    565\u001B[0m )\n",
       "\u001B[1;32m    566\u001B[0m store \u001B[38;5;241m=\u001B[39m get_artifact_repo_from_storage_info(\n",
       "\u001B[1;32m    567\u001B[0m     storage_location\u001B[38;5;241m=\u001B[39mmodel_version\u001B[38;5;241m.\u001B[39mstorage_location, scoped_token\u001B[38;5;241m=\u001B[39mscoped_token\n",
       "\u001B[1;32m    568\u001B[0m )\n",
       "\u001B[0;32m--> 569\u001B[0m store\u001B[38;5;241m.\u001B[39mlog_artifacts(local_dir\u001B[38;5;241m=\u001B[39mlocal_model_dir, artifact_path\u001B[38;5;241m=\u001B[39m\u001B[38;5;124m\"\u001B[39m\u001B[38;5;124m\"\u001B[39m)\n",
       "\u001B[1;32m    570\u001B[0m finalized_mv \u001B[38;5;241m=\u001B[39m \u001B[38;5;28mself\u001B[39m\u001B[38;5;241m.\u001B[39m_finalize_model_version(name\u001B[38;5;241m=\u001B[39mfull_name, version\u001B[38;5;241m=\u001B[39mversion_number)\n",
       "\u001B[1;32m    571\u001B[0m \u001B[38;5;28;01mreturn\u001B[39;00m model_version_from_uc_proto(finalized_mv)\n",
       "\n",
       "File \u001B[0;32m/local_disk0/.ephemeral_nfs/envs/pythonEnv-5bbcf85c-ea80-425e-8004-873100942742/lib/python3.11/site-packages/mlflow/store/artifact/cloud_artifact_repo.py:156\u001B[0m, in \u001B[0;36mCloudArtifactRepository.log_artifacts\u001B[0;34m(self, local_dir, artifact_path)\u001B[0m\n",
       "\u001B[1;32m    153\u001B[0m             failed_uploads[src_file_path] \u001B[38;5;241m=\u001B[39m \u001B[38;5;28mrepr\u001B[39m(e)\n",
       "\u001B[1;32m    155\u001B[0m \u001B[38;5;28;01mif\u001B[39;00m \u001B[38;5;28mlen\u001B[39m(failed_uploads) \u001B[38;5;241m>\u001B[39m \u001B[38;5;241m0\u001B[39m:\n",
       "\u001B[0;32m--> 156\u001B[0m     \u001B[38;5;28;01mraise\u001B[39;00m MlflowException(\n",
       "\u001B[1;32m    157\u001B[0m         message\u001B[38;5;241m=\u001B[39m(\n",
       "\u001B[1;32m    158\u001B[0m             \u001B[38;5;124m\"\u001B[39m\u001B[38;5;124mThe following failures occurred while uploading one or more artifacts\u001B[39m\u001B[38;5;124m\"\u001B[39m\n",
       "\u001B[1;32m    159\u001B[0m             \u001B[38;5;124mf\u001B[39m\u001B[38;5;124m\"\u001B[39m\u001B[38;5;124m to \u001B[39m\u001B[38;5;132;01m{\u001B[39;00m\u001B[38;5;28mself\u001B[39m\u001B[38;5;241m.\u001B[39martifact_uri\u001B[38;5;132;01m}\u001B[39;00m\u001B[38;5;124m: \u001B[39m\u001B[38;5;132;01m{\u001B[39;00mfailed_uploads\u001B[38;5;132;01m}\u001B[39;00m\u001B[38;5;124m\"\u001B[39m\n",
       "\u001B[1;32m    160\u001B[0m         )\n",
       "\u001B[1;32m    161\u001B[0m     )\n",
       "\n",
       "\u001B[0;31mMlflowException\u001B[0m: The following failures occurred while uploading one or more artifacts to s3://dbstorage-prod-avsat/uc/29469442-9435-4b72-ad0f-62e25df79afb/fd032d3a-e6b5-4276-884c-f45170a5d218/models/cced590d-b5cb-4400-8fcd-643656dd0c87/versions/48bdd2db-43e8-4496-a58e-29225968cc99: {'/local_disk0/repl_tmp_data/ReplId-19687-dafcc-1/tmpg5_ntgxn/model/model.yaml': \"S3UploadFailedError('Failed to upload /local_disk0/repl_tmp_data/ReplId-19687-dafcc-1/tmpg5_ntgxn/model/model.yaml to dbstorage-prod-avsat/uc/29469442-9435-4b72-ad0f-62e25df79afb/fd032d3a-e6b5-4276-884c-f45170a5d218/models/cced590d-b5cb-4400-8fcd-643656dd0c87/versions/48bdd2db-43e8-4496-a58e-29225968cc99/model.yaml: An error occurred (AccessDenied) when calling the PutObject operation: Access Denied')\", '/local_disk0/repl_tmp_data/ReplId-19687-dafcc-1/tmpg5_ntgxn/model/conda.yaml': \"S3UploadFailedError('Failed to upload /local_disk0/repl_tmp_data/ReplId-19687-dafcc-1/tmpg5_ntgxn/model/conda.yaml to dbstorage-prod-avsat/uc/29469442-9435-4b72-ad0f-62e25df79afb/fd032d3a-e6b5-4276-884c-f45170a5d218/models/cced590d-b5cb-4400-8fcd-643656dd0c87/versions/48bdd2db-43e8-4496-a58e-29225968cc99/conda.yaml: An error occurred (AccessDenied) when calling the PutObject operation: Access Denied')\", '/local_disk0/repl_tmp_data/ReplId-19687-dafcc-1/tmpg5_ntgxn/model/requirements.txt': \"S3UploadFailedError('Failed to upload /local_disk0/repl_tmp_data/ReplId-19687-dafcc-1/tmpg5_ntgxn/model/requirements.txt to dbstorage-prod-avsat/uc/29469442-9435-4b72-ad0f-62e25df79afb/fd032d3a-e6b5-4276-884c-f45170a5d218/models/cced590d-b5cb-4400-8fcd-643656dd0c87/versions/48bdd2db-43e8-4496-a58e-29225968cc99/requirements.txt: An error occurred (AccessDenied) when calling the PutObject operation: Access Denied')\", '/local_disk0/repl_tmp_data/ReplId-19687-dafcc-1/tmpg5_ntgxn/model/loader_fn.pkl': \"S3UploadFailedError('Failed to upload /local_disk0/repl_tmp_data/ReplId-19687-dafcc-1/tmpg5_ntgxn/model/loader_fn.pkl to dbstorage-prod-avsat/uc/29469442-9435-4b72-ad0f-62e25df79afb/fd032d3a-e6b5-4276-884c-f45170a5d218/models/cced590d-b5cb-4400-8fcd-643656dd0c87/versions/48bdd2db-43e8-4496-a58e-29225968cc99/loader_fn.pkl: An error occurred (AccessDenied) when calling the PutObject operation: Access Denied')\", '/local_disk0/repl_tmp_data/ReplId-19687-dafcc-1/tmpg5_ntgxn/model/python_env.yaml': \"S3UploadFailedError('Failed to upload /local_disk0/repl_tmp_data/ReplId-19687-dafcc-1/tmpg5_ntgxn/model/python_env.yaml to dbstorage-prod-avsat/uc/29469442-9435-4b72-ad0f-62e25df79afb/fd032d3a-e6b5-4276-884c-f45170a5d218/models/cced590d-b5cb-4400-8fcd-643656dd0c87/versions/48bdd2db-43e8-4496-a58e-29225968cc99/python_env.yaml: An error occurred (AccessDenied) when calling the PutObject operation: Access Denied')\", '/local_disk0/repl_tmp_data/ReplId-19687-dafcc-1/tmpg5_ntgxn/model/MLmodel': \"S3UploadFailedError('Failed to upload /local_disk0/repl_tmp_data/ReplId-19687-dafcc-1/tmpg5_ntgxn/model/MLmodel to dbstorage-prod-avsat/uc/29469442-9435-4b72-ad0f-62e25df79afb/fd032d3a-e6b5-4276-884c-f45170a5d218/models/cced590d-b5cb-4400-8fcd-643656dd0c87/versions/48bdd2db-43e8-4496-a58e-29225968cc99/MLmodel: An error occurred (AccessDenied) when calling the PutObject operation: Access Denied')\", '/local_disk0/repl_tmp_data/ReplId-19687-dafcc-1/tmpg5_ntgxn/model/input_example.json': \"S3UploadFailedError('Failed to upload /local_disk0/repl_tmp_data/ReplId-19687-dafcc-1/tmpg5_ntgxn/model/input_example.json to dbstorage-prod-avsat/uc/29469442-9435-4b72-ad0f-62e25df79afb/fd032d3a-e6b5-4276-884c-f45170a5d218/models/cced590d-b5cb-4400-8fcd-643656dd0c87/versions/48bdd2db-43e8-4496-a58e-29225968cc99/input_example.json: An error occurred (AccessDenied) when calling the PutObject operation: Access Denied')\"}"
      ]
     },
     "metadata": {
      "application/vnd.databricks.v1+output": {
       "addedWidgets": {},
       "arguments": {},
       "datasetInfos": [],
       "jupyterProps": {
        "ename": "MlflowException",
        "evalue": "The following failures occurred while uploading one or more artifacts to s3://dbstorage-prod-avsat/uc/29469442-9435-4b72-ad0f-62e25df79afb/fd032d3a-e6b5-4276-884c-f45170a5d218/models/cced590d-b5cb-4400-8fcd-643656dd0c87/versions/48bdd2db-43e8-4496-a58e-29225968cc99: {'/local_disk0/repl_tmp_data/ReplId-19687-dafcc-1/tmpg5_ntgxn/model/model.yaml': \"S3UploadFailedError('Failed to upload /local_disk0/repl_tmp_data/ReplId-19687-dafcc-1/tmpg5_ntgxn/model/model.yaml to dbstorage-prod-avsat/uc/29469442-9435-4b72-ad0f-62e25df79afb/fd032d3a-e6b5-4276-884c-f45170a5d218/models/cced590d-b5cb-4400-8fcd-643656dd0c87/versions/48bdd2db-43e8-4496-a58e-29225968cc99/model.yaml: An error occurred (AccessDenied) when calling the PutObject operation: Access Denied')\", '/local_disk0/repl_tmp_data/ReplId-19687-dafcc-1/tmpg5_ntgxn/model/conda.yaml': \"S3UploadFailedError('Failed to upload /local_disk0/repl_tmp_data/ReplId-19687-dafcc-1/tmpg5_ntgxn/model/conda.yaml to dbstorage-prod-avsat/uc/29469442-9435-4b72-ad0f-62e25df79afb/fd032d3a-e6b5-4276-884c-f45170a5d218/models/cced590d-b5cb-4400-8fcd-643656dd0c87/versions/48bdd2db-43e8-4496-a58e-29225968cc99/conda.yaml: An error occurred (AccessDenied) when calling the PutObject operation: Access Denied')\", '/local_disk0/repl_tmp_data/ReplId-19687-dafcc-1/tmpg5_ntgxn/model/requirements.txt': \"S3UploadFailedError('Failed to upload /local_disk0/repl_tmp_data/ReplId-19687-dafcc-1/tmpg5_ntgxn/model/requirements.txt to dbstorage-prod-avsat/uc/29469442-9435-4b72-ad0f-62e25df79afb/fd032d3a-e6b5-4276-884c-f45170a5d218/models/cced590d-b5cb-4400-8fcd-643656dd0c87/versions/48bdd2db-43e8-4496-a58e-29225968cc99/requirements.txt: An error occurred (AccessDenied) when calling the PutObject operation: Access Denied')\", '/local_disk0/repl_tmp_data/ReplId-19687-dafcc-1/tmpg5_ntgxn/model/loader_fn.pkl': \"S3UploadFailedError('Failed to upload /local_disk0/repl_tmp_data/ReplId-19687-dafcc-1/tmpg5_ntgxn/model/loader_fn.pkl to dbstorage-prod-avsat/uc/29469442-9435-4b72-ad0f-62e25df79afb/fd032d3a-e6b5-4276-884c-f45170a5d218/models/cced590d-b5cb-4400-8fcd-643656dd0c87/versions/48bdd2db-43e8-4496-a58e-29225968cc99/loader_fn.pkl: An error occurred (AccessDenied) when calling the PutObject operation: Access Denied')\", '/local_disk0/repl_tmp_data/ReplId-19687-dafcc-1/tmpg5_ntgxn/model/python_env.yaml': \"S3UploadFailedError('Failed to upload /local_disk0/repl_tmp_data/ReplId-19687-dafcc-1/tmpg5_ntgxn/model/python_env.yaml to dbstorage-prod-avsat/uc/29469442-9435-4b72-ad0f-62e25df79afb/fd032d3a-e6b5-4276-884c-f45170a5d218/models/cced590d-b5cb-4400-8fcd-643656dd0c87/versions/48bdd2db-43e8-4496-a58e-29225968cc99/python_env.yaml: An error occurred (AccessDenied) when calling the PutObject operation: Access Denied')\", '/local_disk0/repl_tmp_data/ReplId-19687-dafcc-1/tmpg5_ntgxn/model/MLmodel': \"S3UploadFailedError('Failed to upload /local_disk0/repl_tmp_data/ReplId-19687-dafcc-1/tmpg5_ntgxn/model/MLmodel to dbstorage-prod-avsat/uc/29469442-9435-4b72-ad0f-62e25df79afb/fd032d3a-e6b5-4276-884c-f45170a5d218/models/cced590d-b5cb-4400-8fcd-643656dd0c87/versions/48bdd2db-43e8-4496-a58e-29225968cc99/MLmodel: An error occurred (AccessDenied) when calling the PutObject operation: Access Denied')\", '/local_disk0/repl_tmp_data/ReplId-19687-dafcc-1/tmpg5_ntgxn/model/input_example.json': \"S3UploadFailedError('Failed to upload /local_disk0/repl_tmp_data/ReplId-19687-dafcc-1/tmpg5_ntgxn/model/input_example.json to dbstorage-prod-avsat/uc/29469442-9435-4b72-ad0f-62e25df79afb/fd032d3a-e6b5-4276-884c-f45170a5d218/models/cced590d-b5cb-4400-8fcd-643656dd0c87/versions/48bdd2db-43e8-4496-a58e-29225968cc99/input_example.json: An error occurred (AccessDenied) when calling the PutObject operation: Access Denied')\"}"
       },
       "metadata": {
        "errorSummary": "<span class='ansi-red-fg'>MlflowException</span>: The following failures occurred while uploading one or more artifacts to s3://dbstorage-prod-avsat/uc/29469442-9435-4b72-ad0f-62e25df79afb/fd032d3a-e6b5-4276-884c-f45170a5d218/models/cced590d-b5cb-4400-8fcd-643656dd0c87/versions/48bdd2db-43e8-4496-a58e-29225968cc99: {'/local_disk0/repl_tmp_data/ReplId-19687-dafcc-1/tmpg5_ntgxn/model/model.yaml': \"S3UploadFailedError('Failed to upload /local_disk0/repl_tmp_data/ReplId-19687-dafcc-1/tmpg5_ntgxn/model/model.yaml to dbstorage-prod-avsat/uc/29469442-9435-4b72-ad0f-62e25df79afb/fd032d3a-e6b5-4276-884c-f45170a5d218/models/cced590d-b5cb-4400-8fcd-643656dd0c87/versions/48bdd2db-43e8-4496-a58e-29225968cc99/model.yaml: An error occurred (AccessDenied) when calling the PutObject operation: Access Denied')\", '/local_disk0/repl_tmp_data/ReplId-19687-dafcc-1/tmpg5_ntgxn/model/conda.yaml': \"S3UploadFailedError('Failed to upload /local_disk0/repl_tmp_data/ReplId-19687-dafcc-1/tmpg5_ntgxn/model/conda.yaml to dbstorage-prod-avsat/uc/29469442-9435-4b72-ad0f-62e25df79afb/fd032d3a-e6b5-4276-884c-f45170a5d218/models/cced590d-b5cb-4400-8fcd-643656dd0c87/versions/48bdd2db-43e8-4496-a58e-29225968cc99/conda.yaml: An error occurred (AccessDenied) when calling the PutObject operation: Access Denied')\", '/local_disk0/repl_tmp_data/ReplId-19687-dafcc-1/tmpg5_ntgxn/model/requirements.txt': \"S3UploadFailedError('Failed to upload /local_disk0/repl_tmp_data/ReplId-19687-dafcc-1/tmpg5_ntgxn/model/requirements.txt to dbstorage-prod-avsat/uc/29469442-9435-4b72-ad0f-62e25df79afb/fd032d3a-e6b5-4276-884c-f45170a5d218/models/cced590d-b5cb-4400-8fcd-643656dd0c87/versions/48bdd2db-43e8-4496-a58e-29225968cc99/requirements.txt: An error occurred (AccessDenied) when calling the PutObject operation: Access Denied')\", '/local_disk0/repl_tmp_data/ReplId-19687-dafcc-1/tmpg5_ntgxn/model/loader_fn.pkl': \"S3UploadFailedError('Failed to upload /local_disk0/repl_tmp_data/ReplId-19687-dafcc-1/tmpg5_ntgxn/model/loader_fn.pkl to dbstorage-prod-avsat/uc/29469442-9435-4b72-ad0f-62e25df79afb/fd032d3a-e6b5-4276-884c-f45170a5d218/models/cced590d-b5cb-4400-8fcd-643656dd0c87/versions/48bdd2db-43e8-4496-a58e-29225968cc99/loader_fn.pkl: An error occurred (AccessDenied) when calling the PutObject operation: Access Denied')\", '/local_disk0/repl_tmp_data/ReplId-19687-dafcc-1/tmpg5_ntgxn/model/python_env.yaml': \"S3UploadFailedError('Failed to upload /local_disk0/repl_tmp_data/ReplId-19687-dafcc-1/tmpg5_ntgxn/model/python_env.yaml to dbstorage-prod-avsat/uc/29469442-9435-4b72-ad0f-62e25df79afb/fd032d3a-e6b5-4276-884c-f45170a5d218/models/cced590d-b5cb-4400-8fcd-643656dd0c87/versions/48bdd2db-43e8-4496-a58e-29225968cc99/python_env.yaml: An error occurred (AccessDenied) when calling the PutObject operation: Access Denied')\", '/local_disk0/repl_tmp_data/ReplId-19687-dafcc-1/tmpg5_ntgxn/model/MLmodel': \"S3UploadFailedError('Failed to upload /local_disk0/repl_tmp_data/ReplId-19687-dafcc-1/tmpg5_ntgxn/model/MLmodel to dbstorage-prod-avsat/uc/29469442-9435-4b72-ad0f-62e25df79afb/fd032d3a-e6b5-4276-884c-f45170a5d218/models/cced590d-b5cb-4400-8fcd-643656dd0c87/versions/48bdd2db-43e8-4496-a58e-29225968cc99/MLmodel: An error occurred (AccessDenied) when calling the PutObject operation: Access Denied')\", '/local_disk0/repl_tmp_data/ReplId-19687-dafcc-1/tmpg5_ntgxn/model/input_example.json': \"S3UploadFailedError('Failed to upload /local_disk0/repl_tmp_data/ReplId-19687-dafcc-1/tmpg5_ntgxn/model/input_example.json to dbstorage-prod-avsat/uc/29469442-9435-4b72-ad0f-62e25df79afb/fd032d3a-e6b5-4276-884c-f45170a5d218/models/cced590d-b5cb-4400-8fcd-643656dd0c87/versions/48bdd2db-43e8-4496-a58e-29225968cc99/input_example.json: An error occurred (AccessDenied) when calling the PutObject operation: Access Denied')\"}"
       },
       "removedWidgets": [],
       "sqlProps": null,
       "stackFrames": [
        "\u001B[0;31m---------------------------------------------------------------------------\u001B[0m",
        "\u001B[0;31mMlflowException\u001B[0m                           Traceback (most recent call last)",
        "File \u001B[0;32m<command-5282819306779848>, line 12\u001B[0m\n\u001B[1;32m     10\u001B[0m \u001B[38;5;28;01mwith\u001B[39;00m mlflow\u001B[38;5;241m.\u001B[39mstart_run(run_name\u001B[38;5;241m=\u001B[39m\u001B[38;5;124m\"\u001B[39m\u001B[38;5;124mappliance_chatbot_run\u001B[39m\u001B[38;5;124m\"\u001B[39m) \u001B[38;5;28;01mas\u001B[39;00m run:\n\u001B[1;32m     11\u001B[0m   signature \u001B[38;5;241m=\u001B[39m infer_signature(question, answer)\n\u001B[0;32m---> 12\u001B[0m   model_info \u001B[38;5;241m=\u001B[39m mlflow\u001B[38;5;241m.\u001B[39mlangchain\u001B[38;5;241m.\u001B[39mlog_model(\n\u001B[1;32m     13\u001B[0m     chain,\n\u001B[1;32m     14\u001B[0m     loader_fn\u001B[38;5;241m=\u001B[39m\u001B[38;5;28;01mlambda\u001B[39;00m: get_retriever, \u001B[38;5;66;03m## pass token to loader function\u001B[39;00m\n\u001B[1;32m     15\u001B[0m     artifact_path\u001B[38;5;241m=\u001B[39m\u001B[38;5;124m\"\u001B[39m\u001B[38;5;124mchain\u001B[39m\u001B[38;5;124m\"\u001B[39m,\n\u001B[1;32m     16\u001B[0m     registered_model_name\u001B[38;5;241m=\u001B[39mmodel_name,\n\u001B[1;32m     17\u001B[0m     pip_requirements\u001B[38;5;241m=\u001B[39m[\n\u001B[1;32m     18\u001B[0m       \u001B[38;5;124m\"\u001B[39m\u001B[38;5;124mmlflow==\u001B[39m\u001B[38;5;124m\"\u001B[39m \u001B[38;5;241m+\u001B[39m mlflow\u001B[38;5;241m.\u001B[39m__version__,\n\u001B[1;32m     19\u001B[0m       \u001B[38;5;124m\"\u001B[39m\u001B[38;5;124mlangchain==\u001B[39m\u001B[38;5;124m\"\u001B[39m \u001B[38;5;241m+\u001B[39m langchain\u001B[38;5;241m.\u001B[39m__version__,\n\u001B[1;32m     20\u001B[0m       \u001B[38;5;124m\"\u001B[39m\u001B[38;5;124mdatabricks-vectorsearch\u001B[39m\u001B[38;5;124m\"\u001B[39m,\n\u001B[1;32m     21\u001B[0m     ],\n\u001B[1;32m     22\u001B[0m     input_example\u001B[38;5;241m=\u001B[39mquestion,\n\u001B[1;32m     23\u001B[0m     signature\u001B[38;5;241m=\u001B[39msignature\n\u001B[1;32m     24\u001B[0m   )\n\u001B[1;32m     26\u001B[0m \u001B[38;5;66;03m## show model_info\u001B[39;00m\n\u001B[1;32m     27\u001B[0m display(model_info)\n",
        "File \u001B[0;32m/local_disk0/.ephemeral_nfs/envs/pythonEnv-5bbcf85c-ea80-425e-8004-873100942742/lib/python3.11/site-packages/mlflow/langchain/__init__.py:433\u001B[0m, in \u001B[0;36mlog_model\u001B[0;34m(lc_model, artifact_path, conda_env, code_paths, registered_model_name, signature, input_example, await_registration_for, pip_requirements, extra_pip_requirements, metadata, loader_fn, persist_dir, example_no_conversion, run_id)\u001B[0m\n\u001B[1;32m    328\u001B[0m \u001B[38;5;250m\u001B[39m\u001B[38;5;124;03m\"\"\"\u001B[39;00m\n\u001B[1;32m    329\u001B[0m \u001B[38;5;124;03mLog a LangChain model as an MLflow artifact for the current run.\u001B[39;00m\n\u001B[1;32m    330\u001B[0m \n\u001B[0;32m   (...)\u001B[0m\n\u001B[1;32m    429\u001B[0m \u001B[38;5;124;03m    metadata of the logged model.\u001B[39;00m\n\u001B[1;32m    430\u001B[0m \u001B[38;5;124;03m\"\"\"\u001B[39;00m\n\u001B[1;32m    431\u001B[0m lc_model \u001B[38;5;241m=\u001B[39m _validate_and_wrap_lc_model(lc_model, loader_fn)\n\u001B[0;32m--> 433\u001B[0m \u001B[38;5;28;01mreturn\u001B[39;00m Model\u001B[38;5;241m.\u001B[39mlog(\n\u001B[1;32m    434\u001B[0m     artifact_path\u001B[38;5;241m=\u001B[39martifact_path,\n\u001B[1;32m    435\u001B[0m     flavor\u001B[38;5;241m=\u001B[39mmlflow\u001B[38;5;241m.\u001B[39mlangchain,\n\u001B[1;32m    436\u001B[0m     registered_model_name\u001B[38;5;241m=\u001B[39mregistered_model_name,\n\u001B[1;32m    437\u001B[0m     lc_model\u001B[38;5;241m=\u001B[39mlc_model,\n\u001B[1;32m    438\u001B[0m     conda_env\u001B[38;5;241m=\u001B[39mconda_env,\n\u001B[1;32m    439\u001B[0m     code_paths\u001B[38;5;241m=\u001B[39mcode_paths,\n\u001B[1;32m    440\u001B[0m     signature\u001B[38;5;241m=\u001B[39msignature,\n\u001B[1;32m    441\u001B[0m     input_example\u001B[38;5;241m=\u001B[39minput_example,\n\u001B[1;32m    442\u001B[0m     await_registration_for\u001B[38;5;241m=\u001B[39mawait_registration_for,\n\u001B[1;32m    443\u001B[0m     pip_requirements\u001B[38;5;241m=\u001B[39mpip_requirements,\n\u001B[1;32m    444\u001B[0m     extra_pip_requirements\u001B[38;5;241m=\u001B[39mextra_pip_requirements,\n\u001B[1;32m    445\u001B[0m     metadata\u001B[38;5;241m=\u001B[39mmetadata,\n\u001B[1;32m    446\u001B[0m     loader_fn\u001B[38;5;241m=\u001B[39mloader_fn,\n\u001B[1;32m    447\u001B[0m     persist_dir\u001B[38;5;241m=\u001B[39mpersist_dir,\n\u001B[1;32m    448\u001B[0m     example_no_conversion\u001B[38;5;241m=\u001B[39mexample_no_conversion,\n\u001B[1;32m    449\u001B[0m     run_id\u001B[38;5;241m=\u001B[39mrun_id,\n\u001B[1;32m    450\u001B[0m )\n",
        "File \u001B[0;32m/local_disk0/.ephemeral_nfs/envs/pythonEnv-5bbcf85c-ea80-425e-8004-873100942742/lib/python3.11/site-packages/mlflow/models/model.py:632\u001B[0m, in \u001B[0;36mModel.log\u001B[0;34m(cls, artifact_path, flavor, registered_model_name, await_registration_for, metadata, run_id, **kwargs)\u001B[0m\n\u001B[1;32m    630\u001B[0m         _logger\u001B[38;5;241m.\u001B[39mdebug(\u001B[38;5;124m\"\u001B[39m\u001B[38;5;124m\"\u001B[39m, exc_info\u001B[38;5;241m=\u001B[39m\u001B[38;5;28;01mTrue\u001B[39;00m)\n\u001B[1;32m    631\u001B[0m     \u001B[38;5;28;01mif\u001B[39;00m registered_model_name \u001B[38;5;129;01mis\u001B[39;00m \u001B[38;5;129;01mnot\u001B[39;00m \u001B[38;5;28;01mNone\u001B[39;00m:\n\u001B[0;32m--> 632\u001B[0m         mlflow\u001B[38;5;241m.\u001B[39mtracking\u001B[38;5;241m.\u001B[39m_model_registry\u001B[38;5;241m.\u001B[39mfluent\u001B[38;5;241m.\u001B[39m_register_model(\n\u001B[1;32m    633\u001B[0m             \u001B[38;5;124mf\u001B[39m\u001B[38;5;124m\"\u001B[39m\u001B[38;5;124mruns:/\u001B[39m\u001B[38;5;132;01m{\u001B[39;00mrun_id\u001B[38;5;132;01m}\u001B[39;00m\u001B[38;5;124m/\u001B[39m\u001B[38;5;132;01m{\u001B[39;00mmlflow_model\u001B[38;5;241m.\u001B[39martifact_path\u001B[38;5;132;01m}\u001B[39;00m\u001B[38;5;124m\"\u001B[39m,\n\u001B[1;32m    634\u001B[0m             registered_model_name,\n\u001B[1;32m    635\u001B[0m             await_registration_for\u001B[38;5;241m=\u001B[39mawait_registration_for,\n\u001B[1;32m    636\u001B[0m             local_model_path\u001B[38;5;241m=\u001B[39mlocal_path,\n\u001B[1;32m    637\u001B[0m         )\n\u001B[1;32m    638\u001B[0m \u001B[38;5;28;01mreturn\u001B[39;00m mlflow_model\u001B[38;5;241m.\u001B[39mget_model_info()\n",
        "File \u001B[0;32m/local_disk0/.ephemeral_nfs/envs/pythonEnv-5bbcf85c-ea80-425e-8004-873100942742/lib/python3.11/site-packages/mlflow/tracking/_model_registry/fluent.py:110\u001B[0m, in \u001B[0;36m_register_model\u001B[0;34m(model_uri, name, await_registration_for, tags, local_model_path)\u001B[0m\n\u001B[1;32m    107\u001B[0m     source \u001B[38;5;241m=\u001B[39m RunsArtifactRepository\u001B[38;5;241m.\u001B[39mget_underlying_uri(model_uri)\n\u001B[1;32m    108\u001B[0m     (run_id, _) \u001B[38;5;241m=\u001B[39m RunsArtifactRepository\u001B[38;5;241m.\u001B[39mparse_runs_uri(model_uri)\n\u001B[0;32m--> 110\u001B[0m create_version_response \u001B[38;5;241m=\u001B[39m client\u001B[38;5;241m.\u001B[39m_create_model_version(\n\u001B[1;32m    111\u001B[0m     name\u001B[38;5;241m=\u001B[39mname,\n\u001B[1;32m    112\u001B[0m     source\u001B[38;5;241m=\u001B[39msource,\n\u001B[1;32m    113\u001B[0m     run_id\u001B[38;5;241m=\u001B[39mrun_id,\n\u001B[1;32m    114\u001B[0m     tags\u001B[38;5;241m=\u001B[39mtags,\n\u001B[1;32m    115\u001B[0m     await_creation_for\u001B[38;5;241m=\u001B[39mawait_registration_for,\n\u001B[1;32m    116\u001B[0m     local_model_path\u001B[38;5;241m=\u001B[39mlocal_model_path,\n\u001B[1;32m    117\u001B[0m )\n\u001B[1;32m    118\u001B[0m eprint(\n\u001B[1;32m    119\u001B[0m     \u001B[38;5;124mf\u001B[39m\u001B[38;5;124m\"\u001B[39m\u001B[38;5;124mCreated version \u001B[39m\u001B[38;5;124m'\u001B[39m\u001B[38;5;132;01m{\u001B[39;00mcreate_version_response\u001B[38;5;241m.\u001B[39mversion\u001B[38;5;132;01m}\u001B[39;00m\u001B[38;5;124m'\u001B[39m\u001B[38;5;124m of model \u001B[39m\u001B[38;5;124m\"\u001B[39m\n\u001B[1;32m    120\u001B[0m     \u001B[38;5;124mf\u001B[39m\u001B[38;5;124m\"\u001B[39m\u001B[38;5;124m'\u001B[39m\u001B[38;5;132;01m{\u001B[39;00mcreate_version_response\u001B[38;5;241m.\u001B[39mname\u001B[38;5;132;01m}\u001B[39;00m\u001B[38;5;124m'\u001B[39m\u001B[38;5;124m.\u001B[39m\u001B[38;5;124m\"\u001B[39m\n\u001B[1;32m    121\u001B[0m )\n\u001B[1;32m    122\u001B[0m \u001B[38;5;28;01mreturn\u001B[39;00m create_version_response\n",
        "File \u001B[0;32m/local_disk0/.ephemeral_nfs/envs/pythonEnv-5bbcf85c-ea80-425e-8004-873100942742/lib/python3.11/site-packages/mlflow/tracking/client.py:2649\u001B[0m, in \u001B[0;36mMlflowClient._create_model_version\u001B[0;34m(self, name, source, run_id, tags, run_link, description, await_creation_for, local_model_path)\u001B[0m\n\u001B[1;32m   2641\u001B[0m     \u001B[38;5;66;03m# NOTE: we can't easily delete the target temp location due to the async nature\u001B[39;00m\n\u001B[1;32m   2642\u001B[0m     \u001B[38;5;66;03m# of the model version creation - printing to let the user know.\u001B[39;00m\n\u001B[1;32m   2643\u001B[0m     eprint(\n\u001B[1;32m   2644\u001B[0m         \u001B[38;5;124mf\u001B[39m\u001B[38;5;124m\"\u001B[39m\u001B[38;5;124m=== Source model files were copied to \u001B[39m\u001B[38;5;132;01m{\u001B[39;00mnew_source\u001B[38;5;132;01m}\u001B[39;00m\u001B[38;5;124m\"\u001B[39m\n\u001B[1;32m   2645\u001B[0m         \u001B[38;5;241m+\u001B[39m \u001B[38;5;124m\"\u001B[39m\u001B[38;5;124m in the model registry workspace. You may want to delete the files once the\u001B[39m\u001B[38;5;124m\"\u001B[39m\n\u001B[1;32m   2646\u001B[0m         \u001B[38;5;241m+\u001B[39m \u001B[38;5;124m\"\u001B[39m\u001B[38;5;124m model version is in \u001B[39m\u001B[38;5;124m'\u001B[39m\u001B[38;5;124mREADY\u001B[39m\u001B[38;5;124m'\u001B[39m\u001B[38;5;124m status. You can also find this location in the\u001B[39m\u001B[38;5;124m\"\u001B[39m\n\u001B[1;32m   2647\u001B[0m         \u001B[38;5;241m+\u001B[39m \u001B[38;5;124m\"\u001B[39m\u001B[38;5;124m `source` field of the created model version. ===\u001B[39m\u001B[38;5;124m\"\u001B[39m\n\u001B[1;32m   2648\u001B[0m     )\n\u001B[0;32m-> 2649\u001B[0m \u001B[38;5;28;01mreturn\u001B[39;00m \u001B[38;5;28mself\u001B[39m\u001B[38;5;241m.\u001B[39m_get_registry_client()\u001B[38;5;241m.\u001B[39mcreate_model_version(\n\u001B[1;32m   2650\u001B[0m     name\u001B[38;5;241m=\u001B[39mname,\n\u001B[1;32m   2651\u001B[0m     source\u001B[38;5;241m=\u001B[39mnew_source,\n\u001B[1;32m   2652\u001B[0m     run_id\u001B[38;5;241m=\u001B[39mrun_id,\n\u001B[1;32m   2653\u001B[0m     tags\u001B[38;5;241m=\u001B[39mtags,\n\u001B[1;32m   2654\u001B[0m     run_link\u001B[38;5;241m=\u001B[39mrun_link,\n\u001B[1;32m   2655\u001B[0m     description\u001B[38;5;241m=\u001B[39mdescription,\n\u001B[1;32m   2656\u001B[0m     await_creation_for\u001B[38;5;241m=\u001B[39mawait_creation_for,\n\u001B[1;32m   2657\u001B[0m     local_model_path\u001B[38;5;241m=\u001B[39mlocal_model_path,\n\u001B[1;32m   2658\u001B[0m )\n",
        "File \u001B[0;32m/local_disk0/.ephemeral_nfs/envs/pythonEnv-5bbcf85c-ea80-425e-8004-873100942742/lib/python3.11/site-packages/mlflow/tracking/_model_registry/client.py:190\u001B[0m, in \u001B[0;36mModelRegistryClient.create_model_version\u001B[0;34m(self, name, source, run_id, tags, run_link, description, await_creation_for, local_model_path)\u001B[0m\n\u001B[1;32m    188\u001B[0m arg_names \u001B[38;5;241m=\u001B[39m _get_arg_names(\u001B[38;5;28mself\u001B[39m\u001B[38;5;241m.\u001B[39mstore\u001B[38;5;241m.\u001B[39mcreate_model_version)\n\u001B[1;32m    189\u001B[0m \u001B[38;5;28;01mif\u001B[39;00m \u001B[38;5;124m\"\u001B[39m\u001B[38;5;124mlocal_model_path\u001B[39m\u001B[38;5;124m\"\u001B[39m \u001B[38;5;129;01min\u001B[39;00m arg_names:\n\u001B[0;32m--> 190\u001B[0m     mv \u001B[38;5;241m=\u001B[39m \u001B[38;5;28mself\u001B[39m\u001B[38;5;241m.\u001B[39mstore\u001B[38;5;241m.\u001B[39mcreate_model_version(\n\u001B[1;32m    191\u001B[0m         name,\n\u001B[1;32m    192\u001B[0m         source,\n\u001B[1;32m    193\u001B[0m         run_id,\n\u001B[1;32m    194\u001B[0m         tags,\n\u001B[1;32m    195\u001B[0m         run_link,\n\u001B[1;32m    196\u001B[0m         description,\n\u001B[1;32m    197\u001B[0m         local_model_path\u001B[38;5;241m=\u001B[39mlocal_model_path,\n\u001B[1;32m    198\u001B[0m     )\n\u001B[1;32m    199\u001B[0m \u001B[38;5;28;01melse\u001B[39;00m:\n\u001B[1;32m    200\u001B[0m     \u001B[38;5;66;03m# Fall back to calling create_model_version without\u001B[39;00m\n\u001B[1;32m    201\u001B[0m     \u001B[38;5;66;03m# local_model_path since old model registry store implementations may not\u001B[39;00m\n\u001B[1;32m    202\u001B[0m     \u001B[38;5;66;03m# support the local_model_path argument.\u001B[39;00m\n\u001B[1;32m    203\u001B[0m     mv \u001B[38;5;241m=\u001B[39m \u001B[38;5;28mself\u001B[39m\u001B[38;5;241m.\u001B[39mstore\u001B[38;5;241m.\u001B[39mcreate_model_version(name, source, run_id, tags, run_link, description)\n",
        "File \u001B[0;32m/local_disk0/.ephemeral_nfs/envs/pythonEnv-5bbcf85c-ea80-425e-8004-873100942742/lib/python3.11/site-packages/mlflow/store/_unity_catalog/registry/rest_store.py:569\u001B[0m, in \u001B[0;36mUcModelRegistryStore.create_model_version\u001B[0;34m(self, name, source, run_id, tags, run_link, description, local_model_path)\u001B[0m\n\u001B[1;32m    563\u001B[0m scoped_token \u001B[38;5;241m=\u001B[39m \u001B[38;5;28mself\u001B[39m\u001B[38;5;241m.\u001B[39m_get_temporary_model_version_write_credentials(\n\u001B[1;32m    564\u001B[0m     name\u001B[38;5;241m=\u001B[39mfull_name, version\u001B[38;5;241m=\u001B[39mversion_number\n\u001B[1;32m    565\u001B[0m )\n\u001B[1;32m    566\u001B[0m store \u001B[38;5;241m=\u001B[39m get_artifact_repo_from_storage_info(\n\u001B[1;32m    567\u001B[0m     storage_location\u001B[38;5;241m=\u001B[39mmodel_version\u001B[38;5;241m.\u001B[39mstorage_location, scoped_token\u001B[38;5;241m=\u001B[39mscoped_token\n\u001B[1;32m    568\u001B[0m )\n\u001B[0;32m--> 569\u001B[0m store\u001B[38;5;241m.\u001B[39mlog_artifacts(local_dir\u001B[38;5;241m=\u001B[39mlocal_model_dir, artifact_path\u001B[38;5;241m=\u001B[39m\u001B[38;5;124m\"\u001B[39m\u001B[38;5;124m\"\u001B[39m)\n\u001B[1;32m    570\u001B[0m finalized_mv \u001B[38;5;241m=\u001B[39m \u001B[38;5;28mself\u001B[39m\u001B[38;5;241m.\u001B[39m_finalize_model_version(name\u001B[38;5;241m=\u001B[39mfull_name, version\u001B[38;5;241m=\u001B[39mversion_number)\n\u001B[1;32m    571\u001B[0m \u001B[38;5;28;01mreturn\u001B[39;00m model_version_from_uc_proto(finalized_mv)\n",
        "File \u001B[0;32m/local_disk0/.ephemeral_nfs/envs/pythonEnv-5bbcf85c-ea80-425e-8004-873100942742/lib/python3.11/site-packages/mlflow/store/artifact/cloud_artifact_repo.py:156\u001B[0m, in \u001B[0;36mCloudArtifactRepository.log_artifacts\u001B[0;34m(self, local_dir, artifact_path)\u001B[0m\n\u001B[1;32m    153\u001B[0m             failed_uploads[src_file_path] \u001B[38;5;241m=\u001B[39m \u001B[38;5;28mrepr\u001B[39m(e)\n\u001B[1;32m    155\u001B[0m \u001B[38;5;28;01mif\u001B[39;00m \u001B[38;5;28mlen\u001B[39m(failed_uploads) \u001B[38;5;241m>\u001B[39m \u001B[38;5;241m0\u001B[39m:\n\u001B[0;32m--> 156\u001B[0m     \u001B[38;5;28;01mraise\u001B[39;00m MlflowException(\n\u001B[1;32m    157\u001B[0m         message\u001B[38;5;241m=\u001B[39m(\n\u001B[1;32m    158\u001B[0m             \u001B[38;5;124m\"\u001B[39m\u001B[38;5;124mThe following failures occurred while uploading one or more artifacts\u001B[39m\u001B[38;5;124m\"\u001B[39m\n\u001B[1;32m    159\u001B[0m             \u001B[38;5;124mf\u001B[39m\u001B[38;5;124m\"\u001B[39m\u001B[38;5;124m to \u001B[39m\u001B[38;5;132;01m{\u001B[39;00m\u001B[38;5;28mself\u001B[39m\u001B[38;5;241m.\u001B[39martifact_uri\u001B[38;5;132;01m}\u001B[39;00m\u001B[38;5;124m: \u001B[39m\u001B[38;5;132;01m{\u001B[39;00mfailed_uploads\u001B[38;5;132;01m}\u001B[39;00m\u001B[38;5;124m\"\u001B[39m\n\u001B[1;32m    160\u001B[0m         )\n\u001B[1;32m    161\u001B[0m     )\n",
        "\u001B[0;31mMlflowException\u001B[0m: The following failures occurred while uploading one or more artifacts to s3://dbstorage-prod-avsat/uc/29469442-9435-4b72-ad0f-62e25df79afb/fd032d3a-e6b5-4276-884c-f45170a5d218/models/cced590d-b5cb-4400-8fcd-643656dd0c87/versions/48bdd2db-43e8-4496-a58e-29225968cc99: {'/local_disk0/repl_tmp_data/ReplId-19687-dafcc-1/tmpg5_ntgxn/model/model.yaml': \"S3UploadFailedError('Failed to upload /local_disk0/repl_tmp_data/ReplId-19687-dafcc-1/tmpg5_ntgxn/model/model.yaml to dbstorage-prod-avsat/uc/29469442-9435-4b72-ad0f-62e25df79afb/fd032d3a-e6b5-4276-884c-f45170a5d218/models/cced590d-b5cb-4400-8fcd-643656dd0c87/versions/48bdd2db-43e8-4496-a58e-29225968cc99/model.yaml: An error occurred (AccessDenied) when calling the PutObject operation: Access Denied')\", '/local_disk0/repl_tmp_data/ReplId-19687-dafcc-1/tmpg5_ntgxn/model/conda.yaml': \"S3UploadFailedError('Failed to upload /local_disk0/repl_tmp_data/ReplId-19687-dafcc-1/tmpg5_ntgxn/model/conda.yaml to dbstorage-prod-avsat/uc/29469442-9435-4b72-ad0f-62e25df79afb/fd032d3a-e6b5-4276-884c-f45170a5d218/models/cced590d-b5cb-4400-8fcd-643656dd0c87/versions/48bdd2db-43e8-4496-a58e-29225968cc99/conda.yaml: An error occurred (AccessDenied) when calling the PutObject operation: Access Denied')\", '/local_disk0/repl_tmp_data/ReplId-19687-dafcc-1/tmpg5_ntgxn/model/requirements.txt': \"S3UploadFailedError('Failed to upload /local_disk0/repl_tmp_data/ReplId-19687-dafcc-1/tmpg5_ntgxn/model/requirements.txt to dbstorage-prod-avsat/uc/29469442-9435-4b72-ad0f-62e25df79afb/fd032d3a-e6b5-4276-884c-f45170a5d218/models/cced590d-b5cb-4400-8fcd-643656dd0c87/versions/48bdd2db-43e8-4496-a58e-29225968cc99/requirements.txt: An error occurred (AccessDenied) when calling the PutObject operation: Access Denied')\", '/local_disk0/repl_tmp_data/ReplId-19687-dafcc-1/tmpg5_ntgxn/model/loader_fn.pkl': \"S3UploadFailedError('Failed to upload /local_disk0/repl_tmp_data/ReplId-19687-dafcc-1/tmpg5_ntgxn/model/loader_fn.pkl to dbstorage-prod-avsat/uc/29469442-9435-4b72-ad0f-62e25df79afb/fd032d3a-e6b5-4276-884c-f45170a5d218/models/cced590d-b5cb-4400-8fcd-643656dd0c87/versions/48bdd2db-43e8-4496-a58e-29225968cc99/loader_fn.pkl: An error occurred (AccessDenied) when calling the PutObject operation: Access Denied')\", '/local_disk0/repl_tmp_data/ReplId-19687-dafcc-1/tmpg5_ntgxn/model/python_env.yaml': \"S3UploadFailedError('Failed to upload /local_disk0/repl_tmp_data/ReplId-19687-dafcc-1/tmpg5_ntgxn/model/python_env.yaml to dbstorage-prod-avsat/uc/29469442-9435-4b72-ad0f-62e25df79afb/fd032d3a-e6b5-4276-884c-f45170a5d218/models/cced590d-b5cb-4400-8fcd-643656dd0c87/versions/48bdd2db-43e8-4496-a58e-29225968cc99/python_env.yaml: An error occurred (AccessDenied) when calling the PutObject operation: Access Denied')\", '/local_disk0/repl_tmp_data/ReplId-19687-dafcc-1/tmpg5_ntgxn/model/MLmodel': \"S3UploadFailedError('Failed to upload /local_disk0/repl_tmp_data/ReplId-19687-dafcc-1/tmpg5_ntgxn/model/MLmodel to dbstorage-prod-avsat/uc/29469442-9435-4b72-ad0f-62e25df79afb/fd032d3a-e6b5-4276-884c-f45170a5d218/models/cced590d-b5cb-4400-8fcd-643656dd0c87/versions/48bdd2db-43e8-4496-a58e-29225968cc99/MLmodel: An error occurred (AccessDenied) when calling the PutObject operation: Access Denied')\", '/local_disk0/repl_tmp_data/ReplId-19687-dafcc-1/tmpg5_ntgxn/model/input_example.json': \"S3UploadFailedError('Failed to upload /local_disk0/repl_tmp_data/ReplId-19687-dafcc-1/tmpg5_ntgxn/model/input_example.json to dbstorage-prod-avsat/uc/29469442-9435-4b72-ad0f-62e25df79afb/fd032d3a-e6b5-4276-884c-f45170a5d218/models/cced590d-b5cb-4400-8fcd-643656dd0c87/versions/48bdd2db-43e8-4496-a58e-29225968cc99/input_example.json: An error occurred (AccessDenied) when calling the PutObject operation: Access Denied')\"}"
       ],
       "type": "baseError"
      }
     },
     "output_type": "display_data"
    }
   ],
   "source": [
    "%python\n",
    "from mlflow.models import infer_signature\n",
    "import mlflow\n",
    "import langchain\n",
    "\n",
    "## setup registry\n",
    "mlflow.set_registry_uri(\"databricks-uc\")\n",
    "model_name=\"workspace.llm_rag_demos.rag_model\" ## use same directory as data\n",
    "\n",
    "\n",
    "with mlflow.start_run(run_name=\"appliance_chatbot_run\") as run:\n",
    "  signature = infer_signature(question, answer)\n",
    "  model_info = mlflow.langchain.log_model(\n",
    "    chain,\n",
    "    loader_fn=lambda: get_retriever, ## pass token to loader function\n",
    "    artifact_path=\"chain\",\n",
    "    registered_model_name=model_name,\n",
    "    pip_requirements=[\n",
    "      \"mlflow==\" + mlflow.__version__,\n",
    "      \"langchain==\" + langchain.__version__,\n",
    "      \"databricks-vectorsearch\",\n",
    "    ],\n",
    "    input_example=question,\n",
    "    signature=signature\n",
    "  )\n",
    "\n",
    "## show model_info\n",
    "display(model_info)"
   ]
  }
 ],
 "metadata": {
  "application/vnd.databricks.v1+notebook": {
   "computePreferences": null,
   "dashboards": [],
   "environmentMetadata": {
    "base_environment": "",
    "environment_version": "2"
   },
   "inputWidgetPreferences": null,
   "language": "python",
   "notebookMetadata": {
    "pythonIndentUnit": 4
   },
   "notebookName": "03_RAG_Retriever",
   "widgets": {}
  },
  "language_info": {
   "name": "python"
  }
 },
 "nbformat": 4,
 "nbformat_minor": 0
}