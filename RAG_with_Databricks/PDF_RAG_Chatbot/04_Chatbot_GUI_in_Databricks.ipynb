{
 "cells": [
  {
   "cell_type": "markdown",
   "metadata": {
    "application/vnd.databricks.v1+cell": {
     "cellMetadata": {},
     "inputWidgets": {},
     "nuid": "bbb400c5-e5fc-4eed-bfdd-ebf4970f0ea6",
     "showTitle": false,
     "tableResultSettingsMap": {},
     "title": ""
    }
   },
   "source": [
    "# 4 - Chatbot GUI in Databricks\n",
    "* Notebook by Adam Lang\n",
    "* Notebook was adopted from the Databricks webinar in June 2024 that streamed on the Databricks YouTube channel.\n",
    "* This is the 4th notebook and the next step after creating the delta tables, vector endpoint, and vector index table, and serving the model on an endpoint in Databricks. \n",
    "* This is one way to create a GUI in databricks but not the only way. \n",
    "* Date: 4/30/2025"
   ]
  },
  {
   "cell_type": "markdown",
   "metadata": {
    "application/vnd.databricks.v1+cell": {
     "cellMetadata": {},
     "inputWidgets": {},
     "nuid": "3a1b8ffc-ec05-4d00-8883-6e6740b24449",
     "showTitle": false,
     "tableResultSettingsMap": {},
     "title": ""
    }
   },
   "source": [
    "## 1. Install Dependencies\n",
    "* Update kernel once completed."
   ]
  },
  {
   "cell_type": "code",
   "execution_count": 0,
   "metadata": {
    "application/vnd.databricks.v1+cell": {
     "cellMetadata": {
      "byteLimit": 2048000,
      "rowLimit": 10000
     },
     "inputWidgets": {},
     "nuid": "c913a173-2b1a-45e3-a308-44b117d2c0e6",
     "showTitle": false,
     "tableResultSettingsMap": {},
     "title": ""
    }
   },
   "outputs": [
    {
     "output_type": "stream",
     "name": "stdout",
     "output_type": "stream",
     "text": [
      "Collecting aiohttp\n  Downloading aiohttp-3.11.18-cp311-cp311-manylinux_2_17_x86_64.manylinux2014_x86_64.whl.metadata (7.7 kB)\nCollecting dbtunnel[gradio]\n  Downloading dbtunnel-0.16.0-py3-none-any.whl.metadata (10 kB)\nRequirement already satisfied: nest-asyncio in /databricks/python3/lib/python3.11/site-packages (from dbtunnel[gradio]) (1.5.6)\nRequirement already satisfied: databricks-sdk>=0.18.0 in /databricks/python3/lib/python3.11/site-packages (from dbtunnel[gradio]) (0.40.0)\nCollecting gradio==3.50.2 (from dbtunnel[gradio])\n  Downloading gradio-3.50.2-py3-none-any.whl.metadata (17 kB)\nCollecting aiofiles<24.0,>=22.0 (from gradio==3.50.2->dbtunnel[gradio])\n  Downloading aiofiles-23.2.1-py3-none-any.whl.metadata (9.7 kB)\nCollecting altair<6.0,>=4.2.0 (from gradio==3.50.2->dbtunnel[gradio])\n  Downloading altair-5.5.0-py3-none-any.whl.metadata (11 kB)\nCollecting fastapi (from gradio==3.50.2->dbtunnel[gradio])\n  Downloading fastapi-0.115.12-py3-none-any.whl.metadata (27 kB)\nCollecting ffmpy (from gradio==3.50.2->dbtunnel[gradio])\n  Downloading ffmpy-0.5.0-py3-none-any.whl.metadata (3.0 kB)\nCollecting gradio-client==0.6.1 (from gradio==3.50.2->dbtunnel[gradio])\n  Downloading gradio_client-0.6.1-py3-none-any.whl.metadata (7.1 kB)\nCollecting httpx (from gradio==3.50.2->dbtunnel[gradio])\n  Downloading httpx-0.28.1-py3-none-any.whl.metadata (7.1 kB)\nCollecting huggingface-hub>=0.14.0 (from gradio==3.50.2->dbtunnel[gradio])\n  Downloading huggingface_hub-0.30.2-py3-none-any.whl.metadata (13 kB)\nCollecting importlib-resources<7.0,>=1.3 (from gradio==3.50.2->dbtunnel[gradio])\n  Downloading importlib_resources-6.5.2-py3-none-any.whl.metadata (3.9 kB)\nCollecting jinja2<4.0 (from gradio==3.50.2->dbtunnel[gradio])\n  Downloading jinja2-3.1.6-py3-none-any.whl.metadata (2.9 kB)\nCollecting markupsafe~=2.0 (from gradio==3.50.2->dbtunnel[gradio])\n  Downloading MarkupSafe-2.1.5-cp311-cp311-manylinux_2_17_x86_64.manylinux2014_x86_64.whl.metadata (3.0 kB)\nRequirement already satisfied: matplotlib~=3.0 in /databricks/python3/lib/python3.11/site-packages (from gradio==3.50.2->dbtunnel[gradio]) (3.7.2)\nRequirement already satisfied: numpy~=1.0 in /databricks/python3/lib/python3.11/site-packages (from gradio==3.50.2->dbtunnel[gradio]) (1.23.5)\nCollecting orjson~=3.0 (from gradio==3.50.2->dbtunnel[gradio])\n  Downloading orjson-3.10.18-cp311-cp311-manylinux_2_17_x86_64.manylinux2014_x86_64.whl.metadata (41 kB)\nRequirement already satisfied: packaging in /databricks/python3/lib/python3.11/site-packages (from gradio==3.50.2->dbtunnel[gradio]) (23.2)\nRequirement already satisfied: pandas<3.0,>=1.0 in /databricks/python3/lib/python3.11/site-packages (from gradio==3.50.2->dbtunnel[gradio]) (1.5.3)\nRequirement already satisfied: pillow<11.0,>=8.0 in /databricks/python3/lib/python3.11/site-packages (from gradio==3.50.2->dbtunnel[gradio]) (10.3.0)\nRequirement already satisfied: pydantic!=1.8,!=1.8.1,!=2.0.0,!=2.0.1,<3.0.0,>=1.7.4 in /databricks/python3/lib/python3.11/site-packages (from gradio==3.50.2->dbtunnel[gradio]) (1.10.6)\nCollecting pydub (from gradio==3.50.2->dbtunnel[gradio])\n  Downloading pydub-0.25.1-py2.py3-none-any.whl.metadata (1.4 kB)\nCollecting python-multipart (from gradio==3.50.2->dbtunnel[gradio])\n  Downloading python_multipart-0.0.20-py3-none-any.whl.metadata (1.8 kB)\nRequirement already satisfied: pyyaml<7.0,>=5.0 in /databricks/python3/lib/python3.11/site-packages (from gradio==3.50.2->dbtunnel[gradio]) (6.0)\nRequirement already satisfied: requests~=2.0 in /databricks/python3/lib/python3.11/site-packages (from gradio==3.50.2->dbtunnel[gradio]) (2.31.0)\nCollecting semantic-version~=2.0 (from gradio==3.50.2->dbtunnel[gradio])\n  Downloading semantic_version-2.10.0-py2.py3-none-any.whl.metadata (9.7 kB)\nRequirement already satisfied: typing-extensions~=4.0 in /databricks/python3/lib/python3.11/site-packages (from gradio==3.50.2->dbtunnel[gradio]) (4.10.0)\nCollecting uvicorn>=0.14.0 (from gradio==3.50.2->dbtunnel[gradio])\n  Downloading uvicorn-0.34.2-py3-none-any.whl.metadata (6.5 kB)\nCollecting websockets<12.0,>=10.0 (from gradio==3.50.2->dbtunnel[gradio])\n  Downloading websockets-11.0.3-cp311-cp311-manylinux_2_5_x86_64.manylinux1_x86_64.manylinux_2_17_x86_64.manylinux2014_x86_64.whl.metadata (6.6 kB)\nCollecting fsspec (from gradio-client==0.6.1->gradio==3.50.2->dbtunnel[gradio])\n  Downloading fsspec-2025.3.2-py3-none-any.whl.metadata (11 kB)\nCollecting aiohappyeyeballs>=2.3.0 (from aiohttp)\n  Downloading aiohappyeyeballs-2.6.1-py3-none-any.whl.metadata (5.9 kB)\nCollecting aiosignal>=1.1.2 (from aiohttp)\n  Downloading aiosignal-1.3.2-py2.py3-none-any.whl.metadata (3.8 kB)\nCollecting attrs>=17.3.0 (from aiohttp)\n  Downloading attrs-25.3.0-py3-none-any.whl.metadata (10 kB)\nCollecting frozenlist>=1.1.1 (from aiohttp)\n  Downloading frozenlist-1.6.0-cp311-cp311-manylinux_2_5_x86_64.manylinux1_x86_64.manylinux_2_17_x86_64.manylinux2014_x86_64.whl.metadata (16 kB)\nCollecting multidict<7.0,>=4.5 (from aiohttp)\n  Downloading multidict-6.4.3-cp311-cp311-manylinux_2_17_x86_64.manylinux2014_x86_64.whl.metadata (5.3 kB)\nCollecting propcache>=0.2.0 (from aiohttp)\n  Downloading propcache-0.3.1-cp311-cp311-manylinux_2_17_x86_64.manylinux2014_x86_64.whl.metadata (10 kB)\nCollecting yarl<2.0,>=1.17.0 (from aiohttp)\n  Downloading yarl-1.20.0-cp311-cp311-manylinux_2_17_x86_64.manylinux2014_x86_64.whl.metadata (72 kB)\nRequirement already satisfied: google-auth~=2.0 in /databricks/python3/lib/python3.11/site-packages (from databricks-sdk>=0.18.0->dbtunnel[gradio]) (2.35.0)\nRequirement already satisfied: idna>=2.0 in /databricks/python3/lib/python3.11/site-packages (from yarl<2.0,>=1.17.0->aiohttp) (3.4)\nCollecting jsonschema>=3.0 (from altair<6.0,>=4.2.0->gradio==3.50.2->dbtunnel[gradio])\n  Downloading jsonschema-4.23.0-py3-none-any.whl.metadata (7.9 kB)\nCollecting narwhals>=1.14.2 (from altair<6.0,>=4.2.0->gradio==3.50.2->dbtunnel[gradio])\n  Downloading narwhals-1.37.1-py3-none-any.whl.metadata (9.3 kB)\nRequirement already satisfied: cachetools<6.0,>=2.0.0 in /databricks/python3/lib/python3.11/site-packages (from google-auth~=2.0->databricks-sdk>=0.18.0->dbtunnel[gradio]) (5.5.0)\nRequirement already satisfied: pyasn1-modules>=0.2.1 in /databricks/python3/lib/python3.11/site-packages (from google-auth~=2.0->databricks-sdk>=0.18.0->dbtunnel[gradio]) (0.2.8)\nRequirement already satisfied: rsa<5,>=3.1.4 in /databricks/python3/lib/python3.11/site-packages (from google-auth~=2.0->databricks-sdk>=0.18.0->dbtunnel[gradio]) (4.9)\nRequirement already satisfied: filelock in /databricks/python3/lib/python3.11/site-packages (from huggingface-hub>=0.14.0->gradio==3.50.2->dbtunnel[gradio]) (3.13.4)\nCollecting tqdm>=4.42.1 (from huggingface-hub>=0.14.0->gradio==3.50.2->dbtunnel[gradio])\n  Downloading tqdm-4.67.1-py3-none-any.whl.metadata (57 kB)\nRequirement already satisfied: contourpy>=1.0.1 in /databricks/python3/lib/python3.11/site-packages (from matplotlib~=3.0->gradio==3.50.2->dbtunnel[gradio]) (1.0.5)\nRequirement already satisfied: cycler>=0.10 in /databricks/python3/lib/python3.11/site-packages (from matplotlib~=3.0->gradio==3.50.2->dbtunnel[gradio]) (0.11.0)\nRequirement already satisfied: fonttools>=4.22.0 in /databricks/python3/lib/python3.11/site-packages (from matplotlib~=3.0->gradio==3.50.2->dbtunnel[gradio]) (4.25.0)\nRequirement already satisfied: kiwisolver>=1.0.1 in /databricks/python3/lib/python3.11/site-packages (from matplotlib~=3.0->gradio==3.50.2->dbtunnel[gradio]) (1.4.4)\nRequirement already satisfied: pyparsing<3.1,>=2.3.1 in /databricks/python3/lib/python3.11/site-packages (from matplotlib~=3.0->gradio==3.50.2->dbtunnel[gradio]) (3.0.9)\nRequirement already satisfied: python-dateutil>=2.7 in /databricks/python3/lib/python3.11/site-packages (from matplotlib~=3.0->gradio==3.50.2->dbtunnel[gradio]) (2.8.2)\nRequirement already satisfied: pytz>=2020.1 in /databricks/python3/lib/python3.11/site-packages (from pandas<3.0,>=1.0->gradio==3.50.2->dbtunnel[gradio]) (2022.7)\nRequirement already satisfied: charset-normalizer<4,>=2 in /databricks/python3/lib/python3.11/site-packages (from requests~=2.0->gradio==3.50.2->dbtunnel[gradio]) (2.0.4)\nRequirement already satisfied: urllib3<3,>=1.21.1 in /databricks/python3/lib/python3.11/site-packages (from requests~=2.0->gradio==3.50.2->dbtunnel[gradio]) (1.26.16)\nRequirement already satisfied: certifi>=2017.4.17 in /databricks/python3/lib/python3.11/site-packages (from requests~=2.0->gradio==3.50.2->dbtunnel[gradio]) (2023.7.22)\nRequirement already satisfied: click>=7.0 in /databricks/python3/lib/python3.11/site-packages (from uvicorn>=0.14.0->gradio==3.50.2->dbtunnel[gradio]) (8.0.4)\nCollecting h11>=0.8 (from uvicorn>=0.14.0->gradio==3.50.2->dbtunnel[gradio])\n  Downloading h11-0.16.0-py3-none-any.whl.metadata (8.3 kB)\nCollecting starlette<0.47.0,>=0.40.0 (from fastapi->gradio==3.50.2->dbtunnel[gradio])\n  Downloading starlette-0.46.2-py3-none-any.whl.metadata (6.2 kB)\nCollecting anyio (from httpx->gradio==3.50.2->dbtunnel[gradio])\n  Downloading anyio-4.9.0-py3-none-any.whl.metadata (4.7 kB)\nCollecting httpcore==1.* (from httpx->gradio==3.50.2->dbtunnel[gradio])\n  Downloading httpcore-1.0.9-py3-none-any.whl.metadata (21 kB)\nCollecting jsonschema-specifications>=2023.03.6 (from jsonschema>=3.0->altair<6.0,>=4.2.0->gradio==3.50.2->dbtunnel[gradio])\n  Downloading jsonschema_specifications-2025.4.1-py3-none-any.whl.metadata (2.9 kB)\nCollecting referencing>=0.28.4 (from jsonschema>=3.0->altair<6.0,>=4.2.0->gradio==3.50.2->dbtunnel[gradio])\n  Downloading referencing-0.36.2-py3-none-any.whl.metadata (2.8 kB)\nCollecting rpds-py>=0.7.1 (from jsonschema>=3.0->altair<6.0,>=4.2.0->gradio==3.50.2->dbtunnel[gradio])\n  Downloading rpds_py-0.24.0-cp311-cp311-manylinux_2_17_x86_64.manylinux2014_x86_64.whl.metadata (4.1 kB)\nRequirement already satisfied: pyasn1<0.5.0,>=0.4.6 in /databricks/python3/lib/python3.11/site-packages (from pyasn1-modules>=0.2.1->google-auth~=2.0->databricks-sdk>=0.18.0->dbtunnel[gradio]) (0.4.8)\nRequirement already satisfied: six>=1.5 in /usr/lib/python3/dist-packages (from python-dateutil>=2.7->matplotlib~=3.0->gradio==3.50.2->dbtunnel[gradio]) (1.16.0)\nCollecting sniffio>=1.1 (from anyio->httpx->gradio==3.50.2->dbtunnel[gradio])\n  Downloading sniffio-1.3.1-py3-none-any.whl.metadata (3.9 kB)\nDownloading gradio-3.50.2-py3-none-any.whl (20.3 MB)\n\u001B[?25l   \u001B[90m━━━━━━━━━━━━━━━━━━━━━━━━━━━━━━━━━━━━━━━━\u001B[0m \u001B[32m0.0/20.3 MB\u001B[0m \u001B[31m?\u001B[0m eta \u001B[36m-:--:--\u001B[0m\n\u001B[2K   \u001B[91m━━━━━━━━━━━━━━━━━━━━━━━━━━━━━━━━━━━━━━━\u001B[0m\u001B[91m╸\u001B[0m \u001B[32m20.2/20.3 MB\u001B[0m \u001B[31m121.4 MB/s\u001B[0m eta \u001B[36m0:00:01\u001B[0m\n\u001B[2K   \u001B[90m━━━━━━━━━━━━━━━━━━━━━━━━━━━━━━━━━━━━━━━━\u001B[0m \u001B[32m20.3/20.3 MB\u001B[0m \u001B[31m82.1 MB/s\u001B[0m eta \u001B[36m0:00:00\u001B[0m\n\u001B[?25hDownloading gradio_client-0.6.1-py3-none-any.whl (299 kB)\nDownloading aiohttp-3.11.18-cp311-cp311-manylinux_2_17_x86_64.manylinux2014_x86_64.whl (1.7 MB)\n\u001B[?25l   \u001B[90m━━━━━━━━━━━━━━━━━━━━━━━━━━━━━━━━━━━━━━━━\u001B[0m \u001B[32m0.0/1.7 MB\u001B[0m \u001B[31m?\u001B[0m eta \u001B[36m-:--:--\u001B[0m\n\u001B[2K   \u001B[90m━━━━━━━━━━━━━━━━━━━━━━━━━━━━━━━━━━━━━━━━\u001B[0m \u001B[32m1.7/1.7 MB\u001B[0m \u001B[31m89.0 MB/s\u001B[0m eta \u001B[36m0:00:00\u001B[0m\n\u001B[?25hDownloading aiohappyeyeballs-2.6.1-py3-none-any.whl (15 kB)\nDownloading aiosignal-1.3.2-py2.py3-none-any.whl (7.6 kB)\nDownloading attrs-25.3.0-py3-none-any.whl (63 kB)\nDownloading frozenlist-1.6.0-cp311-cp311-manylinux_2_5_x86_64.manylinux1_x86_64.manylinux_2_17_x86_64.manylinux2014_x86_64.whl (313 kB)\nDownloading multidict-6.4.3-cp311-cp311-manylinux_2_17_x86_64.manylinux2014_x86_64.whl (223 kB)\nDownloading propcache-0.3.1-cp311-cp311-manylinux_2_17_x86_64.manylinux2014_x86_64.whl (232 kB)\nDownloading yarl-1.20.0-cp311-cp311-manylinux_2_17_x86_64.manylinux2014_x86_64.whl (358 kB)\nDownloading dbtunnel-0.16.0-py3-none-any.whl (54 kB)\nDownloading aiofiles-23.2.1-py3-none-any.whl (15 kB)\nDownloading altair-5.5.0-py3-none-any.whl (731 kB)\n\u001B[?25l   \u001B[90m━━━━━━━━━━━━━━━━━━━━━━━━━━━━━━━━━━━━━━━━\u001B[0m \u001B[32m0.0/731.2 kB\u001B[0m \u001B[31m?\u001B[0m eta \u001B[36m-:--:--\u001B[0m\n\u001B[2K   \u001B[90m━━━━━━━━━━━━━━━━━━━━━━━━━━━━━━━━━━━━━━━━\u001B[0m \u001B[32m731.2/731.2 kB\u001B[0m \u001B[31m19.4 MB/s\u001B[0m eta \u001B[36m0:00:00\u001B[0m\n\u001B[?25hDownloading huggingface_hub-0.30.2-py3-none-any.whl (481 kB)\nDownloading importlib_resources-6.5.2-py3-none-any.whl (37 kB)\nDownloading jinja2-3.1.6-py3-none-any.whl (134 kB)\nDownloading MarkupSafe-2.1.5-cp311-cp311-manylinux_2_17_x86_64.manylinux2014_x86_64.whl (28 kB)\nDownloading orjson-3.10.18-cp311-cp311-manylinux_2_17_x86_64.manylinux2014_x86_64.whl (132 kB)\nDownloading semantic_version-2.10.0-py2.py3-none-any.whl (15 kB)\nDownloading uvicorn-0.34.2-py3-none-any.whl (62 kB)\nDownloading websockets-11.0.3-cp311-cp311-manylinux_2_5_x86_64.manylinux1_x86_64.manylinux_2_17_x86_64.manylinux2014_x86_64.whl (130 kB)\nDownloading fastapi-0.115.12-py3-none-any.whl (95 kB)\nDownloading ffmpy-0.5.0-py3-none-any.whl (6.0 kB)\nDownloading httpx-0.28.1-py3-none-any.whl (73 kB)\nDownloading httpcore-1.0.9-py3-none-any.whl (78 kB)\nDownloading pydub-0.25.1-py2.py3-none-any.whl (32 kB)\nDownloading python_multipart-0.0.20-py3-none-any.whl (24 kB)\nDownloading fsspec-2025.3.2-py3-none-any.whl (194 kB)\nDownloading h11-0.16.0-py3-none-any.whl (37 kB)\nDownloading jsonschema-4.23.0-py3-none-any.whl (88 kB)\nDownloading narwhals-1.37.1-py3-none-any.whl (332 kB)\nDownloading starlette-0.46.2-py3-none-any.whl (72 kB)\nDownloading anyio-4.9.0-py3-none-any.whl (100 kB)\nDownloading tqdm-4.67.1-py3-none-any.whl (78 kB)\nDownloading jsonschema_specifications-2025.4.1-py3-none-any.whl (18 kB)\nDownloading referencing-0.36.2-py3-none-any.whl (26 kB)\nDownloading rpds_py-0.24.0-cp311-cp311-manylinux_2_17_x86_64.manylinux2014_x86_64.whl (389 kB)\nDownloading sniffio-1.3.1-py3-none-any.whl (10 kB)\nInstalling collected packages: pydub, websockets, tqdm, sniffio, semantic-version, rpds-py, python-multipart, propcache, orjson, narwhals, multidict, markupsafe, importlib-resources, h11, fsspec, frozenlist, ffmpy, attrs, aiohappyeyeballs, aiofiles, yarl, uvicorn, referencing, jinja2, huggingface-hub, httpcore, anyio, aiosignal, starlette, jsonschema-specifications, httpx, aiohttp, jsonschema, gradio-client, fastapi, dbtunnel, altair, gradio\nSuccessfully installed aiofiles-23.2.1 aiohappyeyeballs-2.6.1 aiohttp-3.11.18 aiosignal-1.3.2 altair-5.5.0 anyio-4.9.0 attrs-25.3.0 dbtunnel-0.16.0 fastapi-0.115.12 ffmpy-0.5.0 frozenlist-1.6.0 fsspec-2025.3.2 gradio-3.50.2 gradio-client-0.6.1 h11-0.16.0 httpcore-1.0.9 httpx-0.28.1 huggingface-hub-0.30.2 importlib-resources-6.5.2 jinja2-3.1.6 jsonschema-4.23.0 jsonschema-specifications-2025.4.1 markupsafe-2.1.5 multidict-6.4.3 narwhals-1.37.1 orjson-3.10.18 propcache-0.3.1 pydub-0.25.1 python-multipart-0.0.20 referencing-0.36.2 rpds-py-0.24.0 semantic-version-2.10.0 sniffio-1.3.1 starlette-0.46.2 tqdm-4.67.1 uvicorn-0.34.2 websockets-11.0.3 yarl-1.20.0\n\u001B[43mNote: you may need to restart the kernel using %restart_python or dbutils.library.restartPython() to use updated packages.\u001B[0m\n"
     ]
    }
   ],
   "source": [
    "%pip install dbtunnel[gradio] aiohttp\n",
    "dbutils.library.restartPython()"
   ]
  },
  {
   "cell_type": "markdown",
   "metadata": {
    "application/vnd.databricks.v1+cell": {
     "cellMetadata": {},
     "inputWidgets": {},
     "nuid": "fdcfa35b-4fbc-4efc-b44c-9d18cf36e549",
     "showTitle": false,
     "tableResultSettingsMap": {},
     "title": ""
    }
   },
   "source": [
    "## 2. Set environment Variables"
   ]
  },
  {
   "cell_type": "code",
   "execution_count": 0,
   "metadata": {
    "application/vnd.databricks.v1+cell": {
     "cellMetadata": {},
     "inputWidgets": {},
     "nuid": "726be7e1-be3a-4af8-bb9e-b36946423173",
     "showTitle": false,
     "tableResultSettingsMap": {},
     "title": ""
    }
   },
   "outputs": [],
   "source": [
    "import os \n",
    "\n",
    "## 1. databricks token -- if using databricks notebook in databricks\n",
    "os.environ[\"DATABRICKS_HOST\"] = dbutils.notebook.entry_point.getDbutils().notebook().getContext().apiUrl().get()\n",
    "## 1b. If you are not using a noteook and serving model on cloud then consider using code below\n",
    "# os.environ['DATABRICKS_TOKEN'] = dbutils.secret.get(\"demo\", \"<name of your secret token>\")\n",
    "\n",
    "## 2. Set endpoint of your model\n",
    "os.environ['API_ENDPOINT'] = \"<inference endpoint of your model on databricks>\""
   ]
  },
  {
   "cell_type": "markdown",
   "metadata": {
    "application/vnd.databricks.v1+cell": {
     "cellMetadata": {},
     "inputWidgets": {},
     "nuid": "d1924eea-bd31-4464-b995-115dfeff1242",
     "showTitle": false,
     "tableResultSettingsMap": {},
     "title": ""
    }
   },
   "source": [
    "## 3. Setup GUI"
   ]
  },
  {
   "cell_type": "code",
   "execution_count": 0,
   "metadata": {
    "application/vnd.databricks.v1+cell": {
     "cellMetadata": {},
     "inputWidgets": {},
     "nuid": "357e7c1b-5a6a-44c8-8a3b-422965bf5ff2",
     "showTitle": false,
     "tableResultSettingsMap": {},
     "title": ""
    }
   },
   "outputs": [],
   "source": [
    "import itertools\n",
    "import gradio as gr\n",
    "import requests\n",
    "import json\n",
    "from gradio.themes.utils import sizes\n",
    "\n",
    "\n",
    "## Function to respond to query \n",
    "def respond_to_query(message, history):\n",
    "    \n",
    "    if len(message.strip()) == 0:\n",
    "        return \"ERROR the question should not be empty!\"\n",
    "    \n",
    "    print (\"#### Message ####\")\n",
    "    print (message)\n",
    "\n",
    "    ## get tokens\n",
    "    local_token = os.getenv('DATABRICKS_TOKEN')\n",
    "    local_endpoint = os.getenv('API_ENDPOINT')\n",
    "\n",
    "    if local_token is None or local_endpoint is None:\n",
    "        return \"ERROR missing env variables\"\n",
    "    \n",
    "    # Add API token to headers\n",
    "    headers = {\n",
    "        \"Content-Type\": 'application/json',\n",
    "        'Authorization': f\"Bearer {local_token}\"\n",
    "    }\n",
    "    payload = {\n",
    "        \"inputs\" : [message]\n",
    "    }\n",
    "    try:\n",
    "        response = requests.post(\n",
    "            local_endpoint,\n",
    "            json=payload,\n",
    "            headers=headers,\n",
    "            timeout=100\n",
    "        )\n",
    "        response_json = response.json()\n",
    "        print(\"#### RESPONSE JSON\")\n",
    "        print(response_json)\n",
    "\n",
    "        response_data = response_json[\"predictions\"][0] # extract field result\n",
    "        print(response_data)\n",
    "\n",
    "    except Exception as error:\n",
    "        response_data = f\"ERROR status_code: {type(error).__name__}\"\n",
    "        # + str(response.status_code) + \" response:\" + response.text\n",
    "\n",
    "    # print(response.json())\n",
    "    return response_data\n",
    "\n",
    "\n",
    "## set theme\n",
    "theme = gr.themes.Soft(\n",
    "    text_size=sizes.text_sm,\n",
    "    radius=sizes.radius_sm,\n",
    "    spacing_size=sizes.spacing_sm\n",
    ")\n",
    "\n",
    "demo = gr.ChatInterface(\n",
    "    respond,\n",
    "    chatbot=gr.Chatbot(show_label=False, container=False, show_copy_button=True, bubble_full_width=True),\n",
    "    textbox=gr.Textbox(placeholder=\"Ask me a question about Home Appliances\",\n",
    "                       container=False,\n",
    "                       scale=10),\n",
    "    title=\"Home Appliances Chatbot\",\n",
    "    description=\"This chatbot is a demo of how to interact with appliance chatbot\",\n",
    "    examples=[[\"What do I do if my range burnger won't light?\"],],\n",
    "    cache_examples=False,\n",
    "    theme=theme,\n",
    "    retry_btn=None,\n",
    "    undo_btn=None,\n",
    "    clear_btn=\"Clear\",\n",
    ")"
   ]
  },
  {
   "cell_type": "code",
   "execution_count": 0,
   "metadata": {
    "application/vnd.databricks.v1+cell": {
     "cellMetadata": {},
     "inputWidgets": {},
     "nuid": "9772cfdd-9153-4f6f-9549-13bd874ced7c",
     "showTitle": false,
     "tableResultSettingsMap": {},
     "title": ""
    }
   },
   "outputs": [],
   "source": [
    "## run the demo\n",
    "from dbtunnel import dbtunnel\n",
    "dbtunnel.gradio(demo).run()\n",
    "\n",
    "\n",
    "## once URL is printed out then open it and run demo"
   ]
  }
 ],
 "metadata": {
  "application/vnd.databricks.v1+notebook": {
   "computePreferences": null,
   "dashboards": [],
   "environmentMetadata": {
    "base_environment": "",
    "environment_version": "2"
   },
   "inputWidgetPreferences": null,
   "language": "python",
   "notebookMetadata": {
    "pythonIndentUnit": 4
   },
   "notebookName": "04_Chatbot_GUI_in_Databricks",
   "widgets": {}
  },
  "language_info": {
   "name": "python"
  }
 },
 "nbformat": 4,
 "nbformat_minor": 0
}